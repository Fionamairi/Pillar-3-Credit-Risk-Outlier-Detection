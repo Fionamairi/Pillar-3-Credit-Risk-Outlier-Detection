{
 "cells": [
  {
   "cell_type": "code",
   "execution_count": 5,
   "id": "d438df42",
   "metadata": {},
   "outputs": [
    {
     "name": "stderr",
     "output_type": "stream",
     "text": [
      "[I 2025-08-05 05:16:28,273] A new study created in memory with name: no-name-62a69d25-ad9e-4ffd-a1cb-4f8c4853e803\n",
      "[I 2025-08-05 05:16:28,406] Trial 0 finished with value: -5.0 and parameters: {'n_estimators': 180, 'max_samples': 0.8683304841253587, 'contamination': 0.09383101139785903, 'max_features': 0.7093249667957302}. Best is trial 0 with value: -5.0.\n",
      "[I 2025-08-05 05:16:28,515] Trial 1 finished with value: -6.0 and parameters: {'n_estimators': 149, 'max_samples': 0.8640392844180225, 'contamination': 0.09781738273913959, 'max_features': 0.5097584958684485}. Best is trial 0 with value: -5.0.\n",
      "[I 2025-08-05 05:16:28,637] Trial 2 finished with value: -3.0 and parameters: {'n_estimators': 177, 'max_samples': 0.5277364261469388, 'contamination': 0.0523511575676548, 'max_features': 0.8846965993643605}. Best is trial 2 with value: -3.0.\n",
      "[I 2025-08-05 05:16:28,745] Trial 3 finished with value: -2.0 and parameters: {'n_estimators': 152, 'max_samples': 0.6627568734188963, 'contamination': 0.02389570756876861, 'max_features': 0.6548797333189464}. Best is trial 3 with value: -2.0.\n",
      "[I 2025-08-05 05:16:28,895] Trial 4 finished with value: -2.0 and parameters: {'n_estimators': 185, 'max_samples': 0.8510597590665668, 'contamination': 0.022611268165579658, 'max_features': 0.6629902750251541}. Best is trial 3 with value: -2.0.\n",
      "[I 2025-08-05 05:16:28,990] Trial 5 finished with value: -1.0 and parameters: {'n_estimators': 109, 'max_samples': 0.5387816055707858, 'contamination': 0.01238975578168609, 'max_features': 0.7023356304677993}. Best is trial 5 with value: -1.0.\n",
      "[I 2025-08-05 05:16:29,114] Trial 6 finished with value: -2.0 and parameters: {'n_estimators': 155, 'max_samples': 0.9455783907452262, 'contamination': 0.027467653469728674, 'max_features': 0.8909027411991024}. Best is trial 5 with value: -1.0.\n",
      "[I 2025-08-05 05:16:29,199] Trial 7 finished with value: -3.0 and parameters: {'n_estimators': 95, 'max_samples': 0.9314493987138099, 'contamination': 0.05004707133328185, 'max_features': 0.5409673393877659}. Best is trial 5 with value: -1.0.\n",
      "[I 2025-08-05 05:16:29,355] Trial 8 finished with value: -5.0 and parameters: {'n_estimators': 196, 'max_samples': 0.9487038213754286, 'contamination': 0.08105112937968909, 'max_features': 0.9743467072793495}. Best is trial 5 with value: -1.0.\n",
      "[I 2025-08-05 05:16:29,415] Trial 9 finished with value: -3.0 and parameters: {'n_estimators': 81, 'max_samples': 0.8919759887382588, 'contamination': 0.0520474424678677, 'max_features': 0.6703206480502631}. Best is trial 5 with value: -1.0.\n",
      "[I 2025-08-05 05:16:29,507] Trial 10 finished with value: -1.0 and parameters: {'n_estimators': 117, 'max_samples': 0.502594364263691, 'contamination': 0.012198595742956092, 'max_features': 0.7939392812236369}. Best is trial 5 with value: -1.0.\n",
      "[I 2025-08-05 05:16:29,596] Trial 11 finished with value: -1.0 and parameters: {'n_estimators': 111, 'max_samples': 0.5052911393361978, 'contamination': 0.013066382964671127, 'max_features': 0.8072468102139652}. Best is trial 5 with value: -1.0.\n",
      "[I 2025-08-05 05:16:29,641] Trial 12 finished with value: -2.0 and parameters: {'n_estimators': 53, 'max_samples': 0.6035326008550996, 'contamination': 0.03771383952930546, 'max_features': 0.7826421262096795}. Best is trial 5 with value: -1.0.\n",
      "[I 2025-08-05 05:16:29,739] Trial 13 finished with value: -1.0 and parameters: {'n_estimators': 126, 'max_samples': 0.7172045717807967, 'contamination': 0.01143273318332623, 'max_features': 0.5828057294176494}. Best is trial 5 with value: -1.0.\n",
      "[I 2025-08-05 05:16:29,836] Trial 14 finished with value: -4.0 and parameters: {'n_estimators': 126, 'max_samples': 0.5896021727065742, 'contamination': 0.06809345707657125, 'max_features': 0.8521363149357086}. Best is trial 5 with value: -1.0.\n",
      "[I 2025-08-05 05:16:29,896] Trial 15 finished with value: -3.0 and parameters: {'n_estimators': 73, 'max_samples': 0.5805030334182716, 'contamination': 0.0386490390077118, 'max_features': 0.7248691557870989}. Best is trial 5 with value: -1.0.\n",
      "[I 2025-08-05 05:16:29,978] Trial 16 finished with value: -2.0 and parameters: {'n_estimators': 105, 'max_samples': 0.7753393171577883, 'contamination': 0.033192234342144925, 'max_features': 0.6044371619934337}. Best is trial 5 with value: -1.0.\n",
      "[I 2025-08-05 05:16:30,086] Trial 17 finished with value: -1.0 and parameters: {'n_estimators': 139, 'max_samples': 0.6612368341166441, 'contamination': 0.010359624394021261, 'max_features': 0.7671424858483691}. Best is trial 5 with value: -1.0.\n",
      "[I 2025-08-05 05:16:30,157] Trial 18 finished with value: -4.0 and parameters: {'n_estimators': 91, 'max_samples': 0.5452442620939586, 'contamination': 0.06676092024868228, 'max_features': 0.9444778758980694}. Best is trial 5 with value: -1.0.\n",
      "[I 2025-08-05 05:16:30,250] Trial 19 finished with value: -2.0 and parameters: {'n_estimators': 111, 'max_samples': 0.6461859133923902, 'contamination': 0.019670389948074095, 'max_features': 0.8143861692991095}. Best is trial 5 with value: -1.0.\n",
      "[I 2025-08-05 05:16:30,329] A new study created in memory with name: no-name-c44224a7-804b-4923-8256-7947d71ff180\n",
      "[I 2025-08-05 05:16:30,331] Trial 0 finished with value: -8.0 and parameters: {'nu': 0.057513920526869135, 'gamma': 'scale'}. Best is trial 0 with value: -8.0.\n",
      "[I 2025-08-05 05:16:30,333] Trial 1 finished with value: -8.0 and parameters: {'nu': 0.041829550210546594, 'gamma': 'scale'}. Best is trial 0 with value: -8.0.\n",
      "[I 2025-08-05 05:16:30,336] Trial 2 finished with value: -7.0 and parameters: {'nu': 0.03976053551636337, 'gamma': 'auto'}. Best is trial 2 with value: -7.0.\n",
      "[I 2025-08-05 05:16:30,337] Trial 3 finished with value: -8.0 and parameters: {'nu': 0.08052458109636569, 'gamma': 'auto'}. Best is trial 2 with value: -7.0.\n",
      "[I 2025-08-05 05:16:30,339] Trial 4 finished with value: -7.0 and parameters: {'nu': 0.07543030648038189, 'gamma': 'auto'}. Best is trial 2 with value: -7.0.\n",
      "[I 2025-08-05 05:16:30,342] Trial 5 finished with value: -6.0 and parameters: {'nu': 0.06477338844519032, 'gamma': 'auto'}. Best is trial 5 with value: -6.0.\n",
      "[I 2025-08-05 05:16:30,344] Trial 6 finished with value: -6.0 and parameters: {'nu': 0.07534964430967304, 'gamma': 'auto'}. Best is trial 5 with value: -6.0.\n",
      "[I 2025-08-05 05:16:30,346] Trial 7 finished with value: -7.0 and parameters: {'nu': 0.014497794949669816, 'gamma': 'auto'}. Best is trial 5 with value: -6.0.\n",
      "[I 2025-08-05 05:16:30,348] Trial 8 finished with value: -5.0 and parameters: {'nu': 0.03776857384403772, 'gamma': 'auto'}. Best is trial 8 with value: -5.0.\n",
      "[I 2025-08-05 05:16:30,350] Trial 9 finished with value: -8.0 and parameters: {'nu': 0.07581291091334863, 'gamma': 'auto'}. Best is trial 8 with value: -5.0.\n",
      "[I 2025-08-05 05:16:30,354] Trial 10 finished with value: -7.0 and parameters: {'nu': 0.010404931745866035, 'gamma': 'scale'}. Best is trial 8 with value: -5.0.\n",
      "[I 2025-08-05 05:16:30,358] Trial 11 finished with value: -8.0 and parameters: {'nu': 0.04547306605195873, 'gamma': 'auto'}. Best is trial 8 with value: -5.0.\n",
      "[I 2025-08-05 05:16:30,362] Trial 12 finished with value: -8.0 and parameters: {'nu': 0.058792164190046826, 'gamma': 'auto'}. Best is trial 8 with value: -5.0.\n",
      "[I 2025-08-05 05:16:30,366] Trial 13 finished with value: -9.0 and parameters: {'nu': 0.09651560473341589, 'gamma': 'auto'}. Best is trial 8 with value: -5.0.\n",
      "[I 2025-08-05 05:16:30,370] Trial 14 finished with value: -9.0 and parameters: {'nu': 0.02626693165133035, 'gamma': 'scale'}. Best is trial 8 with value: -5.0.\n",
      "[I 2025-08-05 05:16:30,376] Trial 15 finished with value: -8.0 and parameters: {'nu': 0.024865728502383506, 'gamma': 'auto'}. Best is trial 8 with value: -5.0.\n",
      "[I 2025-08-05 05:16:30,381] Trial 16 finished with value: -9.0 and parameters: {'nu': 0.06314055777241487, 'gamma': 'auto'}. Best is trial 8 with value: -5.0.\n",
      "[I 2025-08-05 05:16:30,386] Trial 17 finished with value: -6.0 and parameters: {'nu': 0.03367423271613236, 'gamma': 'auto'}. Best is trial 8 with value: -5.0.\n",
      "[I 2025-08-05 05:16:30,391] Trial 18 finished with value: -9.0 and parameters: {'nu': 0.04965121891009654, 'gamma': 'scale'}. Best is trial 8 with value: -5.0.\n",
      "[I 2025-08-05 05:16:30,396] Trial 19 finished with value: -8.0 and parameters: {'nu': 0.06585711288778757, 'gamma': 'auto'}. Best is trial 8 with value: -5.0.\n",
      "[I 2025-08-05 05:16:30,402] Trial 20 finished with value: -7.0 and parameters: {'nu': 0.09669504385827053, 'gamma': 'auto'}. Best is trial 8 with value: -5.0.\n",
      "[I 2025-08-05 05:16:30,407] Trial 21 finished with value: -7.0 and parameters: {'nu': 0.08669096293368991, 'gamma': 'auto'}. Best is trial 8 with value: -5.0.\n",
      "[I 2025-08-05 05:16:30,412] Trial 22 finished with value: -8.0 and parameters: {'nu': 0.06616329758825919, 'gamma': 'auto'}. Best is trial 8 with value: -5.0.\n",
      "[I 2025-08-05 05:16:30,416] Trial 23 finished with value: -8.0 and parameters: {'nu': 0.05107633177938725, 'gamma': 'auto'}. Best is trial 8 with value: -5.0.\n",
      "[I 2025-08-05 05:16:30,421] Trial 24 finished with value: -9.0 and parameters: {'nu': 0.07101036602970721, 'gamma': 'auto'}. Best is trial 8 with value: -5.0.\n",
      "[I 2025-08-05 05:16:30,426] Trial 25 finished with value: -8.0 and parameters: {'nu': 0.08988589169962596, 'gamma': 'auto'}. Best is trial 8 with value: -5.0.\n",
      "[I 2025-08-05 05:16:30,430] Trial 26 finished with value: -9.0 and parameters: {'nu': 0.03201818303589734, 'gamma': 'scale'}. Best is trial 8 with value: -5.0.\n",
      "[I 2025-08-05 05:16:30,435] Trial 27 finished with value: -7.0 and parameters: {'nu': 0.08245364728331236, 'gamma': 'auto'}. Best is trial 8 with value: -5.0.\n"
     ]
    },
    {
     "name": "stdout",
     "output_type": "stream",
     "text": [
      "Best parameters for isolation forest:\n",
      "{'n_estimators': 109, 'max_samples': 0.5387816055707858, 'contamination': 0.01238975578168609, 'max_features': 0.7023356304677993}\n"
     ]
    },
    {
     "name": "stderr",
     "output_type": "stream",
     "text": [
      "[I 2025-08-05 05:16:30,440] Trial 28 finished with value: -9.0 and parameters: {'nu': 0.055289961134717944, 'gamma': 'auto'}. Best is trial 8 with value: -5.0.\n",
      "[I 2025-08-05 05:16:30,444] Trial 29 finished with value: -8.0 and parameters: {'nu': 0.060127782307287006, 'gamma': 'scale'}. Best is trial 8 with value: -5.0.\n",
      "[I 2025-08-05 05:16:30,448] Trial 30 finished with value: -9.0 and parameters: {'nu': 0.07161846351261777, 'gamma': 'auto'}. Best is trial 8 with value: -5.0.\n",
      "[I 2025-08-05 05:16:30,453] Trial 31 finished with value: -10.0 and parameters: {'nu': 0.035112389463549, 'gamma': 'auto'}. Best is trial 8 with value: -5.0.\n",
      "[I 2025-08-05 05:16:30,457] Trial 32 finished with value: -7.0 and parameters: {'nu': 0.024966090038073978, 'gamma': 'auto'}. Best is trial 8 with value: -5.0.\n",
      "[I 2025-08-05 05:16:30,462] Trial 33 finished with value: -8.0 and parameters: {'nu': 0.0379656059924214, 'gamma': 'auto'}. Best is trial 8 with value: -5.0.\n",
      "[I 2025-08-05 05:16:30,468] Trial 34 finished with value: -8.0 and parameters: {'nu': 0.047662381104375866, 'gamma': 'auto'}. Best is trial 8 with value: -5.0.\n",
      "[I 2025-08-05 05:16:30,473] Trial 35 finished with value: -9.0 and parameters: {'nu': 0.01982544842600102, 'gamma': 'auto'}. Best is trial 8 with value: -5.0.\n",
      "[I 2025-08-05 05:16:30,479] Trial 36 finished with value: -8.0 and parameters: {'nu': 0.03242089946667097, 'gamma': 'scale'}. Best is trial 8 with value: -5.0.\n",
      "[I 2025-08-05 05:16:30,484] Trial 37 finished with value: -8.0 and parameters: {'nu': 0.044744805672713765, 'gamma': 'auto'}. Best is trial 8 with value: -5.0.\n",
      "[I 2025-08-05 05:16:30,489] Trial 38 finished with value: -8.0 and parameters: {'nu': 0.07788584267260036, 'gamma': 'auto'}. Best is trial 8 with value: -5.0.\n",
      "[I 2025-08-05 05:16:30,495] Trial 39 finished with value: -7.0 and parameters: {'nu': 0.04088298104732531, 'gamma': 'auto'}. Best is trial 8 with value: -5.0.\n",
      "[I 2025-08-05 05:16:30,501] Trial 40 finished with value: -8.0 and parameters: {'nu': 0.06977375037956107, 'gamma': 'auto'}. Best is trial 8 with value: -5.0.\n",
      "[I 2025-08-05 05:16:30,507] Trial 41 finished with value: -10.0 and parameters: {'nu': 0.04048788829178975, 'gamma': 'auto'}. Best is trial 8 with value: -5.0.\n",
      "[I 2025-08-05 05:16:30,513] Trial 42 finished with value: -8.0 and parameters: {'nu': 0.053925847688440484, 'gamma': 'auto'}. Best is trial 8 with value: -5.0.\n",
      "[I 2025-08-05 05:16:30,520] Trial 43 finished with value: -6.0 and parameters: {'nu': 0.031546921265071935, 'gamma': 'auto'}. Best is trial 8 with value: -5.0.\n",
      "[I 2025-08-05 05:16:30,527] Trial 44 finished with value: -9.0 and parameters: {'nu': 0.029010526656006504, 'gamma': 'auto'}. Best is trial 8 with value: -5.0.\n",
      "[I 2025-08-05 05:16:30,533] Trial 45 finished with value: -7.0 and parameters: {'nu': 0.018422524549805114, 'gamma': 'auto'}. Best is trial 8 with value: -5.0.\n",
      "[I 2025-08-05 05:16:30,539] Trial 46 finished with value: -8.0 and parameters: {'nu': 0.020429683132535834, 'gamma': 'scale'}. Best is trial 8 with value: -5.0.\n",
      "[I 2025-08-05 05:16:30,545] Trial 47 finished with value: -9.0 and parameters: {'nu': 0.043995231796514586, 'gamma': 'auto'}. Best is trial 8 with value: -5.0.\n",
      "[I 2025-08-05 05:16:30,551] Trial 48 finished with value: -7.0 and parameters: {'nu': 0.011325971717125238, 'gamma': 'auto'}. Best is trial 8 with value: -5.0.\n",
      "[I 2025-08-05 05:16:30,558] Trial 49 finished with value: -9.0 and parameters: {'nu': 0.037055638559420165, 'gamma': 'auto'}. Best is trial 8 with value: -5.0.\n",
      "[I 2025-08-05 05:16:30,567] Trial 50 finished with value: -9.0 and parameters: {'nu': 0.029939261576118918, 'gamma': 'auto'}. Best is trial 8 with value: -5.0.\n",
      "[I 2025-08-05 05:16:30,574] Trial 51 finished with value: -8.0 and parameters: {'nu': 0.03507303387718855, 'gamma': 'auto'}. Best is trial 8 with value: -5.0.\n",
      "[I 2025-08-05 05:16:30,582] Trial 52 finished with value: -8.0 and parameters: {'nu': 0.05186049890856029, 'gamma': 'auto'}. Best is trial 8 with value: -5.0.\n",
      "[I 2025-08-05 05:16:30,587] Trial 53 finished with value: -10.0 and parameters: {'nu': 0.06207398515263712, 'gamma': 'auto'}. Best is trial 8 with value: -5.0.\n",
      "[I 2025-08-05 05:16:30,593] Trial 54 finished with value: -6.0 and parameters: {'nu': 0.02703691189713915, 'gamma': 'auto'}. Best is trial 8 with value: -5.0.\n",
      "[I 2025-08-05 05:16:30,598] Trial 55 finished with value: -9.0 and parameters: {'nu': 0.02813279773991372, 'gamma': 'auto'}. Best is trial 8 with value: -5.0.\n",
      "[I 2025-08-05 05:16:30,603] Trial 56 finished with value: -9.0 and parameters: {'nu': 0.022674299277604327, 'gamma': 'scale'}. Best is trial 8 with value: -5.0.\n",
      "[I 2025-08-05 05:16:30,609] Trial 57 finished with value: -7.0 and parameters: {'nu': 0.016712363986928096, 'gamma': 'auto'}. Best is trial 8 with value: -5.0.\n",
      "[I 2025-08-05 05:16:30,614] Trial 58 finished with value: -6.0 and parameters: {'nu': 0.0758528058292038, 'gamma': 'auto'}. Best is trial 8 with value: -5.0.\n",
      "[I 2025-08-05 05:16:30,619] Trial 59 finished with value: -8.0 and parameters: {'nu': 0.06783387205204029, 'gamma': 'auto'}. Best is trial 8 with value: -5.0.\n",
      "[I 2025-08-05 05:16:30,625] Trial 60 finished with value: -7.0 and parameters: {'nu': 0.08296165624007198, 'gamma': 'auto'}. Best is trial 8 with value: -5.0.\n",
      "[I 2025-08-05 05:16:30,630] Trial 61 finished with value: -8.0 and parameters: {'nu': 0.07474223415171737, 'gamma': 'auto'}. Best is trial 8 with value: -5.0.\n",
      "[I 2025-08-05 05:16:30,636] Trial 62 finished with value: -8.0 and parameters: {'nu': 0.07363918963384015, 'gamma': 'auto'}. Best is trial 8 with value: -5.0.\n",
      "[I 2025-08-05 05:16:30,642] Trial 63 finished with value: -9.0 and parameters: {'nu': 0.06512666862606332, 'gamma': 'auto'}. Best is trial 8 with value: -5.0.\n",
      "[I 2025-08-05 05:16:30,648] Trial 64 finished with value: -8.0 and parameters: {'nu': 0.08556457668709481, 'gamma': 'auto'}. Best is trial 8 with value: -5.0.\n",
      "[I 2025-08-05 05:16:30,653] Trial 65 finished with value: -10.0 and parameters: {'nu': 0.07673272301354295, 'gamma': 'auto'}. Best is trial 8 with value: -5.0.\n",
      "[I 2025-08-05 05:16:30,658] Trial 66 finished with value: -9.0 and parameters: {'nu': 0.09363914647671726, 'gamma': 'scale'}. Best is trial 8 with value: -5.0.\n",
      "[I 2025-08-05 05:16:30,665] Trial 67 finished with value: -7.0 and parameters: {'nu': 0.0797017202436107, 'gamma': 'auto'}. Best is trial 8 with value: -5.0.\n",
      "[I 2025-08-05 05:16:30,670] Trial 68 finished with value: -6.0 and parameters: {'nu': 0.03267124207028373, 'gamma': 'auto'}. Best is trial 8 with value: -5.0.\n",
      "[I 2025-08-05 05:16:30,676] Trial 69 finished with value: -8.0 and parameters: {'nu': 0.04755892983384951, 'gamma': 'auto'}. Best is trial 8 with value: -5.0.\n",
      "[I 2025-08-05 05:16:30,682] Trial 70 finished with value: -6.0 and parameters: {'nu': 0.05725042033019991, 'gamma': 'auto'}. Best is trial 8 with value: -5.0.\n",
      "[I 2025-08-05 05:16:30,688] Trial 71 finished with value: -10.0 and parameters: {'nu': 0.03347184651110241, 'gamma': 'auto'}. Best is trial 8 with value: -5.0.\n",
      "[I 2025-08-05 05:16:30,694] Trial 72 finished with value: -6.0 and parameters: {'nu': 0.023418977053263748, 'gamma': 'auto'}. Best is trial 8 with value: -5.0.\n",
      "[I 2025-08-05 05:16:30,700] Trial 73 finished with value: -9.0 and parameters: {'nu': 0.02673088712567261, 'gamma': 'auto'}. Best is trial 8 with value: -5.0.\n",
      "[I 2025-08-05 05:16:30,706] Trial 74 finished with value: -7.0 and parameters: {'nu': 0.03837397598060578, 'gamma': 'auto'}. Best is trial 8 with value: -5.0.\n",
      "[I 2025-08-05 05:16:30,712] Trial 75 finished with value: -9.0 and parameters: {'nu': 0.030967610512361347, 'gamma': 'auto'}. Best is trial 8 with value: -5.0.\n",
      "[I 2025-08-05 05:16:30,717] Trial 76 finished with value: -9.0 and parameters: {'nu': 0.02672980843109464, 'gamma': 'auto'}. Best is trial 8 with value: -5.0.\n",
      "[I 2025-08-05 05:16:30,722] Trial 77 finished with value: -10.0 and parameters: {'nu': 0.04257891905941111, 'gamma': 'auto'}. Best is trial 8 with value: -5.0.\n",
      "[I 2025-08-05 05:16:30,726] Trial 78 finished with value: -9.0 and parameters: {'nu': 0.034428289310896684, 'gamma': 'scale'}. Best is trial 8 with value: -5.0.\n",
      "[I 2025-08-05 05:16:30,731] Trial 79 finished with value: -9.0 and parameters: {'nu': 0.036429744561346546, 'gamma': 'auto'}. Best is trial 8 with value: -5.0.\n",
      "[I 2025-08-05 05:16:30,735] Trial 80 finished with value: -9.0 and parameters: {'nu': 0.0686933968386058, 'gamma': 'auto'}. Best is trial 8 with value: -5.0.\n",
      "[I 2025-08-05 05:16:30,740] Trial 81 finished with value: -8.0 and parameters: {'nu': 0.05805570925385949, 'gamma': 'auto'}. Best is trial 8 with value: -5.0.\n",
      "[I 2025-08-05 05:16:30,745] Trial 82 finished with value: -10.0 and parameters: {'nu': 0.060646204879236505, 'gamma': 'auto'}. Best is trial 8 with value: -5.0.\n",
      "[I 2025-08-05 05:16:30,751] Trial 83 finished with value: -6.0 and parameters: {'nu': 0.054197387915875285, 'gamma': 'auto'}. Best is trial 8 with value: -5.0.\n",
      "[I 2025-08-05 05:16:30,756] Trial 84 finished with value: -9.0 and parameters: {'nu': 0.0723310312763806, 'gamma': 'auto'}. Best is trial 8 with value: -5.0.\n",
      "[I 2025-08-05 05:16:30,761] Trial 85 finished with value: -7.0 and parameters: {'nu': 0.05641428964082811, 'gamma': 'auto'}. Best is trial 8 with value: -5.0.\n",
      "[I 2025-08-05 05:16:30,767] Trial 86 finished with value: -11.0 and parameters: {'nu': 0.0654458365916109, 'gamma': 'auto'}. Best is trial 8 with value: -5.0.\n",
      "[I 2025-08-05 05:16:30,773] Trial 87 finished with value: -9.0 and parameters: {'nu': 0.031537863161816594, 'gamma': 'auto'}. Best is trial 8 with value: -5.0.\n",
      "[I 2025-08-05 05:16:30,778] Trial 88 finished with value: -9.0 and parameters: {'nu': 0.04759719828460442, 'gamma': 'auto'}. Best is trial 8 with value: -5.0.\n",
      "[I 2025-08-05 05:16:30,784] Trial 89 finished with value: -7.0 and parameters: {'nu': 0.02385960894893723, 'gamma': 'auto'}. Best is trial 8 with value: -5.0.\n",
      "[I 2025-08-05 05:16:30,791] Trial 90 finished with value: -7.0 and parameters: {'nu': 0.06332209313440022, 'gamma': 'scale'}. Best is trial 8 with value: -5.0.\n",
      "[I 2025-08-05 05:16:30,797] Trial 91 finished with value: -8.0 and parameters: {'nu': 0.021545524678377913, 'gamma': 'auto'}. Best is trial 8 with value: -5.0.\n",
      "[I 2025-08-05 05:16:30,803] Trial 92 finished with value: -7.0 and parameters: {'nu': 0.014466938696431416, 'gamma': 'auto'}. Best is trial 8 with value: -5.0.\n",
      "[I 2025-08-05 05:16:30,809] Trial 93 finished with value: -9.0 and parameters: {'nu': 0.028279035560425603, 'gamma': 'auto'}. Best is trial 8 with value: -5.0.\n",
      "[I 2025-08-05 05:16:30,815] Trial 94 finished with value: -7.0 and parameters: {'nu': 0.024164820424157553, 'gamma': 'auto'}. Best is trial 8 with value: -5.0.\n",
      "[I 2025-08-05 05:16:30,822] Trial 95 finished with value: -9.0 and parameters: {'nu': 0.07886136006467094, 'gamma': 'auto'}. Best is trial 8 with value: -5.0.\n",
      "[I 2025-08-05 05:16:30,828] Trial 96 finished with value: -9.0 and parameters: {'nu': 0.03280957586361171, 'gamma': 'auto'}. Best is trial 8 with value: -5.0.\n",
      "[I 2025-08-05 05:16:30,835] Trial 97 finished with value: -4.0 and parameters: {'nu': 0.028833270055175646, 'gamma': 'auto'}. Best is trial 97 with value: -4.0.\n",
      "[I 2025-08-05 05:16:30,842] Trial 98 finished with value: -7.0 and parameters: {'nu': 0.08148129024342947, 'gamma': 'auto'}. Best is trial 97 with value: -4.0.\n",
      "[I 2025-08-05 05:16:30,849] Trial 99 finished with value: -10.0 and parameters: {'nu': 0.039321037584403314, 'gamma': 'auto'}. Best is trial 97 with value: -4.0.\n"
     ]
    },
    {
     "data": {
      "application/vnd.plotly.v1+json": {
       "config": {
        "plotlyServerURL": "https://plot.ly"
       },
       "data": [
        {
         "mode": "markers",
         "name": "Objective Value",
         "type": "scatter",
         "x": [
          0,
          1,
          2,
          3,
          4,
          5,
          6,
          7,
          8,
          9,
          10,
          11,
          12,
          13,
          14,
          15,
          16,
          17,
          18,
          19
         ],
         "y": [
          -5,
          -6,
          -3,
          -2,
          -2,
          -1,
          -2,
          -3,
          -5,
          -3,
          -1,
          -1,
          -2,
          -1,
          -4,
          -3,
          -2,
          -1,
          -4,
          -2
         ]
        },
        {
         "mode": "lines",
         "name": "Best Value",
         "type": "scatter",
         "x": [
          0,
          1,
          2,
          3,
          4,
          5,
          6,
          7,
          8,
          9,
          10,
          11,
          12,
          13,
          14,
          15,
          16,
          17,
          18,
          19
         ],
         "y": [
          -5,
          -5,
          -3,
          -2,
          -2,
          -1,
          -1,
          -1,
          -1,
          -1,
          -1,
          -1,
          -1,
          -1,
          -1,
          -1,
          -1,
          -1,
          -1,
          -1
         ]
        },
        {
         "marker": {
          "color": "#cccccc"
         },
         "mode": "markers",
         "name": "Infeasible Trial",
         "showlegend": false,
         "type": "scatter",
         "x": [],
         "y": []
        }
       ],
       "layout": {
        "template": {
         "data": {
          "bar": [
           {
            "error_x": {
             "color": "#2a3f5f"
            },
            "error_y": {
             "color": "#2a3f5f"
            },
            "marker": {
             "line": {
              "color": "#E5ECF6",
              "width": 0.5
             },
             "pattern": {
              "fillmode": "overlay",
              "size": 10,
              "solidity": 0.2
             }
            },
            "type": "bar"
           }
          ],
          "barpolar": [
           {
            "marker": {
             "line": {
              "color": "#E5ECF6",
              "width": 0.5
             },
             "pattern": {
              "fillmode": "overlay",
              "size": 10,
              "solidity": 0.2
             }
            },
            "type": "barpolar"
           }
          ],
          "carpet": [
           {
            "aaxis": {
             "endlinecolor": "#2a3f5f",
             "gridcolor": "white",
             "linecolor": "white",
             "minorgridcolor": "white",
             "startlinecolor": "#2a3f5f"
            },
            "baxis": {
             "endlinecolor": "#2a3f5f",
             "gridcolor": "white",
             "linecolor": "white",
             "minorgridcolor": "white",
             "startlinecolor": "#2a3f5f"
            },
            "type": "carpet"
           }
          ],
          "choropleth": [
           {
            "colorbar": {
             "outlinewidth": 0,
             "ticks": ""
            },
            "type": "choropleth"
           }
          ],
          "contour": [
           {
            "colorbar": {
             "outlinewidth": 0,
             "ticks": ""
            },
            "colorscale": [
             [
              0,
              "#0d0887"
             ],
             [
              0.1111111111111111,
              "#46039f"
             ],
             [
              0.2222222222222222,
              "#7201a8"
             ],
             [
              0.3333333333333333,
              "#9c179e"
             ],
             [
              0.4444444444444444,
              "#bd3786"
             ],
             [
              0.5555555555555556,
              "#d8576b"
             ],
             [
              0.6666666666666666,
              "#ed7953"
             ],
             [
              0.7777777777777778,
              "#fb9f3a"
             ],
             [
              0.8888888888888888,
              "#fdca26"
             ],
             [
              1,
              "#f0f921"
             ]
            ],
            "type": "contour"
           }
          ],
          "contourcarpet": [
           {
            "colorbar": {
             "outlinewidth": 0,
             "ticks": ""
            },
            "type": "contourcarpet"
           }
          ],
          "heatmap": [
           {
            "colorbar": {
             "outlinewidth": 0,
             "ticks": ""
            },
            "colorscale": [
             [
              0,
              "#0d0887"
             ],
             [
              0.1111111111111111,
              "#46039f"
             ],
             [
              0.2222222222222222,
              "#7201a8"
             ],
             [
              0.3333333333333333,
              "#9c179e"
             ],
             [
              0.4444444444444444,
              "#bd3786"
             ],
             [
              0.5555555555555556,
              "#d8576b"
             ],
             [
              0.6666666666666666,
              "#ed7953"
             ],
             [
              0.7777777777777778,
              "#fb9f3a"
             ],
             [
              0.8888888888888888,
              "#fdca26"
             ],
             [
              1,
              "#f0f921"
             ]
            ],
            "type": "heatmap"
           }
          ],
          "heatmapgl": [
           {
            "colorbar": {
             "outlinewidth": 0,
             "ticks": ""
            },
            "colorscale": [
             [
              0,
              "#0d0887"
             ],
             [
              0.1111111111111111,
              "#46039f"
             ],
             [
              0.2222222222222222,
              "#7201a8"
             ],
             [
              0.3333333333333333,
              "#9c179e"
             ],
             [
              0.4444444444444444,
              "#bd3786"
             ],
             [
              0.5555555555555556,
              "#d8576b"
             ],
             [
              0.6666666666666666,
              "#ed7953"
             ],
             [
              0.7777777777777778,
              "#fb9f3a"
             ],
             [
              0.8888888888888888,
              "#fdca26"
             ],
             [
              1,
              "#f0f921"
             ]
            ],
            "type": "heatmapgl"
           }
          ],
          "histogram": [
           {
            "marker": {
             "pattern": {
              "fillmode": "overlay",
              "size": 10,
              "solidity": 0.2
             }
            },
            "type": "histogram"
           }
          ],
          "histogram2d": [
           {
            "colorbar": {
             "outlinewidth": 0,
             "ticks": ""
            },
            "colorscale": [
             [
              0,
              "#0d0887"
             ],
             [
              0.1111111111111111,
              "#46039f"
             ],
             [
              0.2222222222222222,
              "#7201a8"
             ],
             [
              0.3333333333333333,
              "#9c179e"
             ],
             [
              0.4444444444444444,
              "#bd3786"
             ],
             [
              0.5555555555555556,
              "#d8576b"
             ],
             [
              0.6666666666666666,
              "#ed7953"
             ],
             [
              0.7777777777777778,
              "#fb9f3a"
             ],
             [
              0.8888888888888888,
              "#fdca26"
             ],
             [
              1,
              "#f0f921"
             ]
            ],
            "type": "histogram2d"
           }
          ],
          "histogram2dcontour": [
           {
            "colorbar": {
             "outlinewidth": 0,
             "ticks": ""
            },
            "colorscale": [
             [
              0,
              "#0d0887"
             ],
             [
              0.1111111111111111,
              "#46039f"
             ],
             [
              0.2222222222222222,
              "#7201a8"
             ],
             [
              0.3333333333333333,
              "#9c179e"
             ],
             [
              0.4444444444444444,
              "#bd3786"
             ],
             [
              0.5555555555555556,
              "#d8576b"
             ],
             [
              0.6666666666666666,
              "#ed7953"
             ],
             [
              0.7777777777777778,
              "#fb9f3a"
             ],
             [
              0.8888888888888888,
              "#fdca26"
             ],
             [
              1,
              "#f0f921"
             ]
            ],
            "type": "histogram2dcontour"
           }
          ],
          "mesh3d": [
           {
            "colorbar": {
             "outlinewidth": 0,
             "ticks": ""
            },
            "type": "mesh3d"
           }
          ],
          "parcoords": [
           {
            "line": {
             "colorbar": {
              "outlinewidth": 0,
              "ticks": ""
             }
            },
            "type": "parcoords"
           }
          ],
          "pie": [
           {
            "automargin": true,
            "type": "pie"
           }
          ],
          "scatter": [
           {
            "fillpattern": {
             "fillmode": "overlay",
             "size": 10,
             "solidity": 0.2
            },
            "type": "scatter"
           }
          ],
          "scatter3d": [
           {
            "line": {
             "colorbar": {
              "outlinewidth": 0,
              "ticks": ""
             }
            },
            "marker": {
             "colorbar": {
              "outlinewidth": 0,
              "ticks": ""
             }
            },
            "type": "scatter3d"
           }
          ],
          "scattercarpet": [
           {
            "marker": {
             "colorbar": {
              "outlinewidth": 0,
              "ticks": ""
             }
            },
            "type": "scattercarpet"
           }
          ],
          "scattergeo": [
           {
            "marker": {
             "colorbar": {
              "outlinewidth": 0,
              "ticks": ""
             }
            },
            "type": "scattergeo"
           }
          ],
          "scattergl": [
           {
            "marker": {
             "colorbar": {
              "outlinewidth": 0,
              "ticks": ""
             }
            },
            "type": "scattergl"
           }
          ],
          "scattermapbox": [
           {
            "marker": {
             "colorbar": {
              "outlinewidth": 0,
              "ticks": ""
             }
            },
            "type": "scattermapbox"
           }
          ],
          "scatterpolar": [
           {
            "marker": {
             "colorbar": {
              "outlinewidth": 0,
              "ticks": ""
             }
            },
            "type": "scatterpolar"
           }
          ],
          "scatterpolargl": [
           {
            "marker": {
             "colorbar": {
              "outlinewidth": 0,
              "ticks": ""
             }
            },
            "type": "scatterpolargl"
           }
          ],
          "scatterternary": [
           {
            "marker": {
             "colorbar": {
              "outlinewidth": 0,
              "ticks": ""
             }
            },
            "type": "scatterternary"
           }
          ],
          "surface": [
           {
            "colorbar": {
             "outlinewidth": 0,
             "ticks": ""
            },
            "colorscale": [
             [
              0,
              "#0d0887"
             ],
             [
              0.1111111111111111,
              "#46039f"
             ],
             [
              0.2222222222222222,
              "#7201a8"
             ],
             [
              0.3333333333333333,
              "#9c179e"
             ],
             [
              0.4444444444444444,
              "#bd3786"
             ],
             [
              0.5555555555555556,
              "#d8576b"
             ],
             [
              0.6666666666666666,
              "#ed7953"
             ],
             [
              0.7777777777777778,
              "#fb9f3a"
             ],
             [
              0.8888888888888888,
              "#fdca26"
             ],
             [
              1,
              "#f0f921"
             ]
            ],
            "type": "surface"
           }
          ],
          "table": [
           {
            "cells": {
             "fill": {
              "color": "#EBF0F8"
             },
             "line": {
              "color": "white"
             }
            },
            "header": {
             "fill": {
              "color": "#C8D4E3"
             },
             "line": {
              "color": "white"
             }
            },
            "type": "table"
           }
          ]
         },
         "layout": {
          "annotationdefaults": {
           "arrowcolor": "#2a3f5f",
           "arrowhead": 0,
           "arrowwidth": 1
          },
          "autotypenumbers": "strict",
          "coloraxis": {
           "colorbar": {
            "outlinewidth": 0,
            "ticks": ""
           }
          },
          "colorscale": {
           "diverging": [
            [
             0,
             "#8e0152"
            ],
            [
             0.1,
             "#c51b7d"
            ],
            [
             0.2,
             "#de77ae"
            ],
            [
             0.3,
             "#f1b6da"
            ],
            [
             0.4,
             "#fde0ef"
            ],
            [
             0.5,
             "#f7f7f7"
            ],
            [
             0.6,
             "#e6f5d0"
            ],
            [
             0.7,
             "#b8e186"
            ],
            [
             0.8,
             "#7fbc41"
            ],
            [
             0.9,
             "#4d9221"
            ],
            [
             1,
             "#276419"
            ]
           ],
           "sequential": [
            [
             0,
             "#0d0887"
            ],
            [
             0.1111111111111111,
             "#46039f"
            ],
            [
             0.2222222222222222,
             "#7201a8"
            ],
            [
             0.3333333333333333,
             "#9c179e"
            ],
            [
             0.4444444444444444,
             "#bd3786"
            ],
            [
             0.5555555555555556,
             "#d8576b"
            ],
            [
             0.6666666666666666,
             "#ed7953"
            ],
            [
             0.7777777777777778,
             "#fb9f3a"
            ],
            [
             0.8888888888888888,
             "#fdca26"
            ],
            [
             1,
             "#f0f921"
            ]
           ],
           "sequentialminus": [
            [
             0,
             "#0d0887"
            ],
            [
             0.1111111111111111,
             "#46039f"
            ],
            [
             0.2222222222222222,
             "#7201a8"
            ],
            [
             0.3333333333333333,
             "#9c179e"
            ],
            [
             0.4444444444444444,
             "#bd3786"
            ],
            [
             0.5555555555555556,
             "#d8576b"
            ],
            [
             0.6666666666666666,
             "#ed7953"
            ],
            [
             0.7777777777777778,
             "#fb9f3a"
            ],
            [
             0.8888888888888888,
             "#fdca26"
            ],
            [
             1,
             "#f0f921"
            ]
           ]
          },
          "colorway": [
           "#636efa",
           "#EF553B",
           "#00cc96",
           "#ab63fa",
           "#FFA15A",
           "#19d3f3",
           "#FF6692",
           "#B6E880",
           "#FF97FF",
           "#FECB52"
          ],
          "font": {
           "color": "#2a3f5f"
          },
          "geo": {
           "bgcolor": "white",
           "lakecolor": "white",
           "landcolor": "#E5ECF6",
           "showlakes": true,
           "showland": true,
           "subunitcolor": "white"
          },
          "hoverlabel": {
           "align": "left"
          },
          "hovermode": "closest",
          "mapbox": {
           "style": "light"
          },
          "paper_bgcolor": "white",
          "plot_bgcolor": "#E5ECF6",
          "polar": {
           "angularaxis": {
            "gridcolor": "white",
            "linecolor": "white",
            "ticks": ""
           },
           "bgcolor": "#E5ECF6",
           "radialaxis": {
            "gridcolor": "white",
            "linecolor": "white",
            "ticks": ""
           }
          },
          "scene": {
           "xaxis": {
            "backgroundcolor": "#E5ECF6",
            "gridcolor": "white",
            "gridwidth": 2,
            "linecolor": "white",
            "showbackground": true,
            "ticks": "",
            "zerolinecolor": "white"
           },
           "yaxis": {
            "backgroundcolor": "#E5ECF6",
            "gridcolor": "white",
            "gridwidth": 2,
            "linecolor": "white",
            "showbackground": true,
            "ticks": "",
            "zerolinecolor": "white"
           },
           "zaxis": {
            "backgroundcolor": "#E5ECF6",
            "gridcolor": "white",
            "gridwidth": 2,
            "linecolor": "white",
            "showbackground": true,
            "ticks": "",
            "zerolinecolor": "white"
           }
          },
          "shapedefaults": {
           "line": {
            "color": "#2a3f5f"
           }
          },
          "ternary": {
           "aaxis": {
            "gridcolor": "white",
            "linecolor": "white",
            "ticks": ""
           },
           "baxis": {
            "gridcolor": "white",
            "linecolor": "white",
            "ticks": ""
           },
           "bgcolor": "#E5ECF6",
           "caxis": {
            "gridcolor": "white",
            "linecolor": "white",
            "ticks": ""
           }
          },
          "title": {
           "x": 0.05
          },
          "xaxis": {
           "automargin": true,
           "gridcolor": "white",
           "linecolor": "white",
           "ticks": "",
           "title": {
            "standoff": 15
           },
           "zerolinecolor": "white",
           "zerolinewidth": 2
          },
          "yaxis": {
           "automargin": true,
           "gridcolor": "white",
           "linecolor": "white",
           "ticks": "",
           "title": {
            "standoff": 15
           },
           "zerolinecolor": "white",
           "zerolinewidth": 2
          }
         }
        },
        "title": {
         "text": "Optimization History Plot"
        },
        "xaxis": {
         "title": {
          "text": "Trial"
         }
        },
        "yaxis": {
         "title": {
          "text": "Objective Value"
         }
        }
       }
      }
     },
     "metadata": {},
     "output_type": "display_data"
    },
    {
     "data": {
      "application/vnd.plotly.v1+json": {
       "config": {
        "plotlyServerURL": "https://plot.ly"
       },
       "data": [
        {
         "cliponaxis": false,
         "hovertemplate": [
          "max_samples (FloatDistribution): 0.0107130439978381<extra></extra>",
          "max_features (FloatDistribution): 0.016264033272435786<extra></extra>",
          "n_estimators (IntDistribution): 0.024939724178047323<extra></extra>",
          "contamination (FloatDistribution): 0.9480831985516788<extra></extra>"
         ],
         "name": "Objective Value",
         "orientation": "h",
         "text": [
          "0.01",
          "0.02",
          "0.02",
          "0.95"
         ],
         "textposition": "outside",
         "type": "bar",
         "x": [
          0.0107130439978381,
          0.016264033272435786,
          0.024939724178047323,
          0.9480831985516788
         ],
         "y": [
          "max_samples",
          "max_features",
          "n_estimators",
          "contamination"
         ]
        }
       ],
       "layout": {
        "template": {
         "data": {
          "bar": [
           {
            "error_x": {
             "color": "#2a3f5f"
            },
            "error_y": {
             "color": "#2a3f5f"
            },
            "marker": {
             "line": {
              "color": "#E5ECF6",
              "width": 0.5
             },
             "pattern": {
              "fillmode": "overlay",
              "size": 10,
              "solidity": 0.2
             }
            },
            "type": "bar"
           }
          ],
          "barpolar": [
           {
            "marker": {
             "line": {
              "color": "#E5ECF6",
              "width": 0.5
             },
             "pattern": {
              "fillmode": "overlay",
              "size": 10,
              "solidity": 0.2
             }
            },
            "type": "barpolar"
           }
          ],
          "carpet": [
           {
            "aaxis": {
             "endlinecolor": "#2a3f5f",
             "gridcolor": "white",
             "linecolor": "white",
             "minorgridcolor": "white",
             "startlinecolor": "#2a3f5f"
            },
            "baxis": {
             "endlinecolor": "#2a3f5f",
             "gridcolor": "white",
             "linecolor": "white",
             "minorgridcolor": "white",
             "startlinecolor": "#2a3f5f"
            },
            "type": "carpet"
           }
          ],
          "choropleth": [
           {
            "colorbar": {
             "outlinewidth": 0,
             "ticks": ""
            },
            "type": "choropleth"
           }
          ],
          "contour": [
           {
            "colorbar": {
             "outlinewidth": 0,
             "ticks": ""
            },
            "colorscale": [
             [
              0,
              "#0d0887"
             ],
             [
              0.1111111111111111,
              "#46039f"
             ],
             [
              0.2222222222222222,
              "#7201a8"
             ],
             [
              0.3333333333333333,
              "#9c179e"
             ],
             [
              0.4444444444444444,
              "#bd3786"
             ],
             [
              0.5555555555555556,
              "#d8576b"
             ],
             [
              0.6666666666666666,
              "#ed7953"
             ],
             [
              0.7777777777777778,
              "#fb9f3a"
             ],
             [
              0.8888888888888888,
              "#fdca26"
             ],
             [
              1,
              "#f0f921"
             ]
            ],
            "type": "contour"
           }
          ],
          "contourcarpet": [
           {
            "colorbar": {
             "outlinewidth": 0,
             "ticks": ""
            },
            "type": "contourcarpet"
           }
          ],
          "heatmap": [
           {
            "colorbar": {
             "outlinewidth": 0,
             "ticks": ""
            },
            "colorscale": [
             [
              0,
              "#0d0887"
             ],
             [
              0.1111111111111111,
              "#46039f"
             ],
             [
              0.2222222222222222,
              "#7201a8"
             ],
             [
              0.3333333333333333,
              "#9c179e"
             ],
             [
              0.4444444444444444,
              "#bd3786"
             ],
             [
              0.5555555555555556,
              "#d8576b"
             ],
             [
              0.6666666666666666,
              "#ed7953"
             ],
             [
              0.7777777777777778,
              "#fb9f3a"
             ],
             [
              0.8888888888888888,
              "#fdca26"
             ],
             [
              1,
              "#f0f921"
             ]
            ],
            "type": "heatmap"
           }
          ],
          "heatmapgl": [
           {
            "colorbar": {
             "outlinewidth": 0,
             "ticks": ""
            },
            "colorscale": [
             [
              0,
              "#0d0887"
             ],
             [
              0.1111111111111111,
              "#46039f"
             ],
             [
              0.2222222222222222,
              "#7201a8"
             ],
             [
              0.3333333333333333,
              "#9c179e"
             ],
             [
              0.4444444444444444,
              "#bd3786"
             ],
             [
              0.5555555555555556,
              "#d8576b"
             ],
             [
              0.6666666666666666,
              "#ed7953"
             ],
             [
              0.7777777777777778,
              "#fb9f3a"
             ],
             [
              0.8888888888888888,
              "#fdca26"
             ],
             [
              1,
              "#f0f921"
             ]
            ],
            "type": "heatmapgl"
           }
          ],
          "histogram": [
           {
            "marker": {
             "pattern": {
              "fillmode": "overlay",
              "size": 10,
              "solidity": 0.2
             }
            },
            "type": "histogram"
           }
          ],
          "histogram2d": [
           {
            "colorbar": {
             "outlinewidth": 0,
             "ticks": ""
            },
            "colorscale": [
             [
              0,
              "#0d0887"
             ],
             [
              0.1111111111111111,
              "#46039f"
             ],
             [
              0.2222222222222222,
              "#7201a8"
             ],
             [
              0.3333333333333333,
              "#9c179e"
             ],
             [
              0.4444444444444444,
              "#bd3786"
             ],
             [
              0.5555555555555556,
              "#d8576b"
             ],
             [
              0.6666666666666666,
              "#ed7953"
             ],
             [
              0.7777777777777778,
              "#fb9f3a"
             ],
             [
              0.8888888888888888,
              "#fdca26"
             ],
             [
              1,
              "#f0f921"
             ]
            ],
            "type": "histogram2d"
           }
          ],
          "histogram2dcontour": [
           {
            "colorbar": {
             "outlinewidth": 0,
             "ticks": ""
            },
            "colorscale": [
             [
              0,
              "#0d0887"
             ],
             [
              0.1111111111111111,
              "#46039f"
             ],
             [
              0.2222222222222222,
              "#7201a8"
             ],
             [
              0.3333333333333333,
              "#9c179e"
             ],
             [
              0.4444444444444444,
              "#bd3786"
             ],
             [
              0.5555555555555556,
              "#d8576b"
             ],
             [
              0.6666666666666666,
              "#ed7953"
             ],
             [
              0.7777777777777778,
              "#fb9f3a"
             ],
             [
              0.8888888888888888,
              "#fdca26"
             ],
             [
              1,
              "#f0f921"
             ]
            ],
            "type": "histogram2dcontour"
           }
          ],
          "mesh3d": [
           {
            "colorbar": {
             "outlinewidth": 0,
             "ticks": ""
            },
            "type": "mesh3d"
           }
          ],
          "parcoords": [
           {
            "line": {
             "colorbar": {
              "outlinewidth": 0,
              "ticks": ""
             }
            },
            "type": "parcoords"
           }
          ],
          "pie": [
           {
            "automargin": true,
            "type": "pie"
           }
          ],
          "scatter": [
           {
            "fillpattern": {
             "fillmode": "overlay",
             "size": 10,
             "solidity": 0.2
            },
            "type": "scatter"
           }
          ],
          "scatter3d": [
           {
            "line": {
             "colorbar": {
              "outlinewidth": 0,
              "ticks": ""
             }
            },
            "marker": {
             "colorbar": {
              "outlinewidth": 0,
              "ticks": ""
             }
            },
            "type": "scatter3d"
           }
          ],
          "scattercarpet": [
           {
            "marker": {
             "colorbar": {
              "outlinewidth": 0,
              "ticks": ""
             }
            },
            "type": "scattercarpet"
           }
          ],
          "scattergeo": [
           {
            "marker": {
             "colorbar": {
              "outlinewidth": 0,
              "ticks": ""
             }
            },
            "type": "scattergeo"
           }
          ],
          "scattergl": [
           {
            "marker": {
             "colorbar": {
              "outlinewidth": 0,
              "ticks": ""
             }
            },
            "type": "scattergl"
           }
          ],
          "scattermapbox": [
           {
            "marker": {
             "colorbar": {
              "outlinewidth": 0,
              "ticks": ""
             }
            },
            "type": "scattermapbox"
           }
          ],
          "scatterpolar": [
           {
            "marker": {
             "colorbar": {
              "outlinewidth": 0,
              "ticks": ""
             }
            },
            "type": "scatterpolar"
           }
          ],
          "scatterpolargl": [
           {
            "marker": {
             "colorbar": {
              "outlinewidth": 0,
              "ticks": ""
             }
            },
            "type": "scatterpolargl"
           }
          ],
          "scatterternary": [
           {
            "marker": {
             "colorbar": {
              "outlinewidth": 0,
              "ticks": ""
             }
            },
            "type": "scatterternary"
           }
          ],
          "surface": [
           {
            "colorbar": {
             "outlinewidth": 0,
             "ticks": ""
            },
            "colorscale": [
             [
              0,
              "#0d0887"
             ],
             [
              0.1111111111111111,
              "#46039f"
             ],
             [
              0.2222222222222222,
              "#7201a8"
             ],
             [
              0.3333333333333333,
              "#9c179e"
             ],
             [
              0.4444444444444444,
              "#bd3786"
             ],
             [
              0.5555555555555556,
              "#d8576b"
             ],
             [
              0.6666666666666666,
              "#ed7953"
             ],
             [
              0.7777777777777778,
              "#fb9f3a"
             ],
             [
              0.8888888888888888,
              "#fdca26"
             ],
             [
              1,
              "#f0f921"
             ]
            ],
            "type": "surface"
           }
          ],
          "table": [
           {
            "cells": {
             "fill": {
              "color": "#EBF0F8"
             },
             "line": {
              "color": "white"
             }
            },
            "header": {
             "fill": {
              "color": "#C8D4E3"
             },
             "line": {
              "color": "white"
             }
            },
            "type": "table"
           }
          ]
         },
         "layout": {
          "annotationdefaults": {
           "arrowcolor": "#2a3f5f",
           "arrowhead": 0,
           "arrowwidth": 1
          },
          "autotypenumbers": "strict",
          "coloraxis": {
           "colorbar": {
            "outlinewidth": 0,
            "ticks": ""
           }
          },
          "colorscale": {
           "diverging": [
            [
             0,
             "#8e0152"
            ],
            [
             0.1,
             "#c51b7d"
            ],
            [
             0.2,
             "#de77ae"
            ],
            [
             0.3,
             "#f1b6da"
            ],
            [
             0.4,
             "#fde0ef"
            ],
            [
             0.5,
             "#f7f7f7"
            ],
            [
             0.6,
             "#e6f5d0"
            ],
            [
             0.7,
             "#b8e186"
            ],
            [
             0.8,
             "#7fbc41"
            ],
            [
             0.9,
             "#4d9221"
            ],
            [
             1,
             "#276419"
            ]
           ],
           "sequential": [
            [
             0,
             "#0d0887"
            ],
            [
             0.1111111111111111,
             "#46039f"
            ],
            [
             0.2222222222222222,
             "#7201a8"
            ],
            [
             0.3333333333333333,
             "#9c179e"
            ],
            [
             0.4444444444444444,
             "#bd3786"
            ],
            [
             0.5555555555555556,
             "#d8576b"
            ],
            [
             0.6666666666666666,
             "#ed7953"
            ],
            [
             0.7777777777777778,
             "#fb9f3a"
            ],
            [
             0.8888888888888888,
             "#fdca26"
            ],
            [
             1,
             "#f0f921"
            ]
           ],
           "sequentialminus": [
            [
             0,
             "#0d0887"
            ],
            [
             0.1111111111111111,
             "#46039f"
            ],
            [
             0.2222222222222222,
             "#7201a8"
            ],
            [
             0.3333333333333333,
             "#9c179e"
            ],
            [
             0.4444444444444444,
             "#bd3786"
            ],
            [
             0.5555555555555556,
             "#d8576b"
            ],
            [
             0.6666666666666666,
             "#ed7953"
            ],
            [
             0.7777777777777778,
             "#fb9f3a"
            ],
            [
             0.8888888888888888,
             "#fdca26"
            ],
            [
             1,
             "#f0f921"
            ]
           ]
          },
          "colorway": [
           "#636efa",
           "#EF553B",
           "#00cc96",
           "#ab63fa",
           "#FFA15A",
           "#19d3f3",
           "#FF6692",
           "#B6E880",
           "#FF97FF",
           "#FECB52"
          ],
          "font": {
           "color": "#2a3f5f"
          },
          "geo": {
           "bgcolor": "white",
           "lakecolor": "white",
           "landcolor": "#E5ECF6",
           "showlakes": true,
           "showland": true,
           "subunitcolor": "white"
          },
          "hoverlabel": {
           "align": "left"
          },
          "hovermode": "closest",
          "mapbox": {
           "style": "light"
          },
          "paper_bgcolor": "white",
          "plot_bgcolor": "#E5ECF6",
          "polar": {
           "angularaxis": {
            "gridcolor": "white",
            "linecolor": "white",
            "ticks": ""
           },
           "bgcolor": "#E5ECF6",
           "radialaxis": {
            "gridcolor": "white",
            "linecolor": "white",
            "ticks": ""
           }
          },
          "scene": {
           "xaxis": {
            "backgroundcolor": "#E5ECF6",
            "gridcolor": "white",
            "gridwidth": 2,
            "linecolor": "white",
            "showbackground": true,
            "ticks": "",
            "zerolinecolor": "white"
           },
           "yaxis": {
            "backgroundcolor": "#E5ECF6",
            "gridcolor": "white",
            "gridwidth": 2,
            "linecolor": "white",
            "showbackground": true,
            "ticks": "",
            "zerolinecolor": "white"
           },
           "zaxis": {
            "backgroundcolor": "#E5ECF6",
            "gridcolor": "white",
            "gridwidth": 2,
            "linecolor": "white",
            "showbackground": true,
            "ticks": "",
            "zerolinecolor": "white"
           }
          },
          "shapedefaults": {
           "line": {
            "color": "#2a3f5f"
           }
          },
          "ternary": {
           "aaxis": {
            "gridcolor": "white",
            "linecolor": "white",
            "ticks": ""
           },
           "baxis": {
            "gridcolor": "white",
            "linecolor": "white",
            "ticks": ""
           },
           "bgcolor": "#E5ECF6",
           "caxis": {
            "gridcolor": "white",
            "linecolor": "white",
            "ticks": ""
           }
          },
          "title": {
           "x": 0.05
          },
          "xaxis": {
           "automargin": true,
           "gridcolor": "white",
           "linecolor": "white",
           "ticks": "",
           "title": {
            "standoff": 15
           },
           "zerolinecolor": "white",
           "zerolinewidth": 2
          },
          "yaxis": {
           "automargin": true,
           "gridcolor": "white",
           "linecolor": "white",
           "ticks": "",
           "title": {
            "standoff": 15
           },
           "zerolinecolor": "white",
           "zerolinewidth": 2
          }
         }
        },
        "title": {
         "text": "Hyperparameter Importances"
        },
        "xaxis": {
         "title": {
          "text": "Hyperparameter Importance"
         }
        },
        "yaxis": {
         "title": {
          "text": "Hyperparameter"
         }
        }
       }
      }
     },
     "metadata": {},
     "output_type": "display_data"
    },
    {
     "data": {
      "application/vnd.plotly.v1+json": {
       "config": {
        "plotlyServerURL": "https://plot.ly"
       },
       "data": [
        {
         "mode": "markers",
         "name": "Objective Value",
         "type": "scatter",
         "x": [
          0,
          1,
          2,
          3,
          4,
          5,
          6,
          7,
          8,
          9,
          10,
          11,
          12,
          13,
          14,
          15,
          16,
          17,
          18,
          19,
          20,
          21,
          22,
          23,
          24,
          25,
          26,
          27,
          28,
          29,
          30,
          31,
          32,
          33,
          34,
          35,
          36,
          37,
          38,
          39,
          40,
          41,
          42,
          43,
          44,
          45,
          46,
          47,
          48,
          49,
          50,
          51,
          52,
          53,
          54,
          55,
          56,
          57,
          58,
          59,
          60,
          61,
          62,
          63,
          64,
          65,
          66,
          67,
          68,
          69,
          70,
          71,
          72,
          73,
          74,
          75,
          76,
          77,
          78,
          79,
          80,
          81,
          82,
          83,
          84,
          85,
          86,
          87,
          88,
          89,
          90,
          91,
          92,
          93,
          94,
          95,
          96,
          97,
          98,
          99
         ],
         "y": [
          -8,
          -8,
          -7,
          -8,
          -7,
          -6,
          -6,
          -7,
          -5,
          -8,
          -7,
          -8,
          -8,
          -9,
          -9,
          -8,
          -9,
          -6,
          -9,
          -8,
          -7,
          -7,
          -8,
          -8,
          -9,
          -8,
          -9,
          -7,
          -9,
          -8,
          -9,
          -10,
          -7,
          -8,
          -8,
          -9,
          -8,
          -8,
          -8,
          -7,
          -8,
          -10,
          -8,
          -6,
          -9,
          -7,
          -8,
          -9,
          -7,
          -9,
          -9,
          -8,
          -8,
          -10,
          -6,
          -9,
          -9,
          -7,
          -6,
          -8,
          -7,
          -8,
          -8,
          -9,
          -8,
          -10,
          -9,
          -7,
          -6,
          -8,
          -6,
          -10,
          -6,
          -9,
          -7,
          -9,
          -9,
          -10,
          -9,
          -9,
          -9,
          -8,
          -10,
          -6,
          -9,
          -7,
          -11,
          -9,
          -9,
          -7,
          -7,
          -8,
          -7,
          -9,
          -7,
          -9,
          -9,
          -4,
          -7,
          -10
         ]
        },
        {
         "mode": "lines",
         "name": "Best Value",
         "type": "scatter",
         "x": [
          0,
          1,
          2,
          3,
          4,
          5,
          6,
          7,
          8,
          9,
          10,
          11,
          12,
          13,
          14,
          15,
          16,
          17,
          18,
          19,
          20,
          21,
          22,
          23,
          24,
          25,
          26,
          27,
          28,
          29,
          30,
          31,
          32,
          33,
          34,
          35,
          36,
          37,
          38,
          39,
          40,
          41,
          42,
          43,
          44,
          45,
          46,
          47,
          48,
          49,
          50,
          51,
          52,
          53,
          54,
          55,
          56,
          57,
          58,
          59,
          60,
          61,
          62,
          63,
          64,
          65,
          66,
          67,
          68,
          69,
          70,
          71,
          72,
          73,
          74,
          75,
          76,
          77,
          78,
          79,
          80,
          81,
          82,
          83,
          84,
          85,
          86,
          87,
          88,
          89,
          90,
          91,
          92,
          93,
          94,
          95,
          96,
          97,
          98,
          99
         ],
         "y": [
          -8,
          -8,
          -7,
          -7,
          -7,
          -6,
          -6,
          -6,
          -5,
          -5,
          -5,
          -5,
          -5,
          -5,
          -5,
          -5,
          -5,
          -5,
          -5,
          -5,
          -5,
          -5,
          -5,
          -5,
          -5,
          -5,
          -5,
          -5,
          -5,
          -5,
          -5,
          -5,
          -5,
          -5,
          -5,
          -5,
          -5,
          -5,
          -5,
          -5,
          -5,
          -5,
          -5,
          -5,
          -5,
          -5,
          -5,
          -5,
          -5,
          -5,
          -5,
          -5,
          -5,
          -5,
          -5,
          -5,
          -5,
          -5,
          -5,
          -5,
          -5,
          -5,
          -5,
          -5,
          -5,
          -5,
          -5,
          -5,
          -5,
          -5,
          -5,
          -5,
          -5,
          -5,
          -5,
          -5,
          -5,
          -5,
          -5,
          -5,
          -5,
          -5,
          -5,
          -5,
          -5,
          -5,
          -5,
          -5,
          -5,
          -5,
          -5,
          -5,
          -5,
          -5,
          -5,
          -5,
          -5,
          -4,
          -4,
          -4
         ]
        },
        {
         "marker": {
          "color": "#cccccc"
         },
         "mode": "markers",
         "name": "Infeasible Trial",
         "showlegend": false,
         "type": "scatter",
         "x": [],
         "y": []
        }
       ],
       "layout": {
        "template": {
         "data": {
          "bar": [
           {
            "error_x": {
             "color": "#2a3f5f"
            },
            "error_y": {
             "color": "#2a3f5f"
            },
            "marker": {
             "line": {
              "color": "#E5ECF6",
              "width": 0.5
             },
             "pattern": {
              "fillmode": "overlay",
              "size": 10,
              "solidity": 0.2
             }
            },
            "type": "bar"
           }
          ],
          "barpolar": [
           {
            "marker": {
             "line": {
              "color": "#E5ECF6",
              "width": 0.5
             },
             "pattern": {
              "fillmode": "overlay",
              "size": 10,
              "solidity": 0.2
             }
            },
            "type": "barpolar"
           }
          ],
          "carpet": [
           {
            "aaxis": {
             "endlinecolor": "#2a3f5f",
             "gridcolor": "white",
             "linecolor": "white",
             "minorgridcolor": "white",
             "startlinecolor": "#2a3f5f"
            },
            "baxis": {
             "endlinecolor": "#2a3f5f",
             "gridcolor": "white",
             "linecolor": "white",
             "minorgridcolor": "white",
             "startlinecolor": "#2a3f5f"
            },
            "type": "carpet"
           }
          ],
          "choropleth": [
           {
            "colorbar": {
             "outlinewidth": 0,
             "ticks": ""
            },
            "type": "choropleth"
           }
          ],
          "contour": [
           {
            "colorbar": {
             "outlinewidth": 0,
             "ticks": ""
            },
            "colorscale": [
             [
              0,
              "#0d0887"
             ],
             [
              0.1111111111111111,
              "#46039f"
             ],
             [
              0.2222222222222222,
              "#7201a8"
             ],
             [
              0.3333333333333333,
              "#9c179e"
             ],
             [
              0.4444444444444444,
              "#bd3786"
             ],
             [
              0.5555555555555556,
              "#d8576b"
             ],
             [
              0.6666666666666666,
              "#ed7953"
             ],
             [
              0.7777777777777778,
              "#fb9f3a"
             ],
             [
              0.8888888888888888,
              "#fdca26"
             ],
             [
              1,
              "#f0f921"
             ]
            ],
            "type": "contour"
           }
          ],
          "contourcarpet": [
           {
            "colorbar": {
             "outlinewidth": 0,
             "ticks": ""
            },
            "type": "contourcarpet"
           }
          ],
          "heatmap": [
           {
            "colorbar": {
             "outlinewidth": 0,
             "ticks": ""
            },
            "colorscale": [
             [
              0,
              "#0d0887"
             ],
             [
              0.1111111111111111,
              "#46039f"
             ],
             [
              0.2222222222222222,
              "#7201a8"
             ],
             [
              0.3333333333333333,
              "#9c179e"
             ],
             [
              0.4444444444444444,
              "#bd3786"
             ],
             [
              0.5555555555555556,
              "#d8576b"
             ],
             [
              0.6666666666666666,
              "#ed7953"
             ],
             [
              0.7777777777777778,
              "#fb9f3a"
             ],
             [
              0.8888888888888888,
              "#fdca26"
             ],
             [
              1,
              "#f0f921"
             ]
            ],
            "type": "heatmap"
           }
          ],
          "heatmapgl": [
           {
            "colorbar": {
             "outlinewidth": 0,
             "ticks": ""
            },
            "colorscale": [
             [
              0,
              "#0d0887"
             ],
             [
              0.1111111111111111,
              "#46039f"
             ],
             [
              0.2222222222222222,
              "#7201a8"
             ],
             [
              0.3333333333333333,
              "#9c179e"
             ],
             [
              0.4444444444444444,
              "#bd3786"
             ],
             [
              0.5555555555555556,
              "#d8576b"
             ],
             [
              0.6666666666666666,
              "#ed7953"
             ],
             [
              0.7777777777777778,
              "#fb9f3a"
             ],
             [
              0.8888888888888888,
              "#fdca26"
             ],
             [
              1,
              "#f0f921"
             ]
            ],
            "type": "heatmapgl"
           }
          ],
          "histogram": [
           {
            "marker": {
             "pattern": {
              "fillmode": "overlay",
              "size": 10,
              "solidity": 0.2
             }
            },
            "type": "histogram"
           }
          ],
          "histogram2d": [
           {
            "colorbar": {
             "outlinewidth": 0,
             "ticks": ""
            },
            "colorscale": [
             [
              0,
              "#0d0887"
             ],
             [
              0.1111111111111111,
              "#46039f"
             ],
             [
              0.2222222222222222,
              "#7201a8"
             ],
             [
              0.3333333333333333,
              "#9c179e"
             ],
             [
              0.4444444444444444,
              "#bd3786"
             ],
             [
              0.5555555555555556,
              "#d8576b"
             ],
             [
              0.6666666666666666,
              "#ed7953"
             ],
             [
              0.7777777777777778,
              "#fb9f3a"
             ],
             [
              0.8888888888888888,
              "#fdca26"
             ],
             [
              1,
              "#f0f921"
             ]
            ],
            "type": "histogram2d"
           }
          ],
          "histogram2dcontour": [
           {
            "colorbar": {
             "outlinewidth": 0,
             "ticks": ""
            },
            "colorscale": [
             [
              0,
              "#0d0887"
             ],
             [
              0.1111111111111111,
              "#46039f"
             ],
             [
              0.2222222222222222,
              "#7201a8"
             ],
             [
              0.3333333333333333,
              "#9c179e"
             ],
             [
              0.4444444444444444,
              "#bd3786"
             ],
             [
              0.5555555555555556,
              "#d8576b"
             ],
             [
              0.6666666666666666,
              "#ed7953"
             ],
             [
              0.7777777777777778,
              "#fb9f3a"
             ],
             [
              0.8888888888888888,
              "#fdca26"
             ],
             [
              1,
              "#f0f921"
             ]
            ],
            "type": "histogram2dcontour"
           }
          ],
          "mesh3d": [
           {
            "colorbar": {
             "outlinewidth": 0,
             "ticks": ""
            },
            "type": "mesh3d"
           }
          ],
          "parcoords": [
           {
            "line": {
             "colorbar": {
              "outlinewidth": 0,
              "ticks": ""
             }
            },
            "type": "parcoords"
           }
          ],
          "pie": [
           {
            "automargin": true,
            "type": "pie"
           }
          ],
          "scatter": [
           {
            "fillpattern": {
             "fillmode": "overlay",
             "size": 10,
             "solidity": 0.2
            },
            "type": "scatter"
           }
          ],
          "scatter3d": [
           {
            "line": {
             "colorbar": {
              "outlinewidth": 0,
              "ticks": ""
             }
            },
            "marker": {
             "colorbar": {
              "outlinewidth": 0,
              "ticks": ""
             }
            },
            "type": "scatter3d"
           }
          ],
          "scattercarpet": [
           {
            "marker": {
             "colorbar": {
              "outlinewidth": 0,
              "ticks": ""
             }
            },
            "type": "scattercarpet"
           }
          ],
          "scattergeo": [
           {
            "marker": {
             "colorbar": {
              "outlinewidth": 0,
              "ticks": ""
             }
            },
            "type": "scattergeo"
           }
          ],
          "scattergl": [
           {
            "marker": {
             "colorbar": {
              "outlinewidth": 0,
              "ticks": ""
             }
            },
            "type": "scattergl"
           }
          ],
          "scattermapbox": [
           {
            "marker": {
             "colorbar": {
              "outlinewidth": 0,
              "ticks": ""
             }
            },
            "type": "scattermapbox"
           }
          ],
          "scatterpolar": [
           {
            "marker": {
             "colorbar": {
              "outlinewidth": 0,
              "ticks": ""
             }
            },
            "type": "scatterpolar"
           }
          ],
          "scatterpolargl": [
           {
            "marker": {
             "colorbar": {
              "outlinewidth": 0,
              "ticks": ""
             }
            },
            "type": "scatterpolargl"
           }
          ],
          "scatterternary": [
           {
            "marker": {
             "colorbar": {
              "outlinewidth": 0,
              "ticks": ""
             }
            },
            "type": "scatterternary"
           }
          ],
          "surface": [
           {
            "colorbar": {
             "outlinewidth": 0,
             "ticks": ""
            },
            "colorscale": [
             [
              0,
              "#0d0887"
             ],
             [
              0.1111111111111111,
              "#46039f"
             ],
             [
              0.2222222222222222,
              "#7201a8"
             ],
             [
              0.3333333333333333,
              "#9c179e"
             ],
             [
              0.4444444444444444,
              "#bd3786"
             ],
             [
              0.5555555555555556,
              "#d8576b"
             ],
             [
              0.6666666666666666,
              "#ed7953"
             ],
             [
              0.7777777777777778,
              "#fb9f3a"
             ],
             [
              0.8888888888888888,
              "#fdca26"
             ],
             [
              1,
              "#f0f921"
             ]
            ],
            "type": "surface"
           }
          ],
          "table": [
           {
            "cells": {
             "fill": {
              "color": "#EBF0F8"
             },
             "line": {
              "color": "white"
             }
            },
            "header": {
             "fill": {
              "color": "#C8D4E3"
             },
             "line": {
              "color": "white"
             }
            },
            "type": "table"
           }
          ]
         },
         "layout": {
          "annotationdefaults": {
           "arrowcolor": "#2a3f5f",
           "arrowhead": 0,
           "arrowwidth": 1
          },
          "autotypenumbers": "strict",
          "coloraxis": {
           "colorbar": {
            "outlinewidth": 0,
            "ticks": ""
           }
          },
          "colorscale": {
           "diverging": [
            [
             0,
             "#8e0152"
            ],
            [
             0.1,
             "#c51b7d"
            ],
            [
             0.2,
             "#de77ae"
            ],
            [
             0.3,
             "#f1b6da"
            ],
            [
             0.4,
             "#fde0ef"
            ],
            [
             0.5,
             "#f7f7f7"
            ],
            [
             0.6,
             "#e6f5d0"
            ],
            [
             0.7,
             "#b8e186"
            ],
            [
             0.8,
             "#7fbc41"
            ],
            [
             0.9,
             "#4d9221"
            ],
            [
             1,
             "#276419"
            ]
           ],
           "sequential": [
            [
             0,
             "#0d0887"
            ],
            [
             0.1111111111111111,
             "#46039f"
            ],
            [
             0.2222222222222222,
             "#7201a8"
            ],
            [
             0.3333333333333333,
             "#9c179e"
            ],
            [
             0.4444444444444444,
             "#bd3786"
            ],
            [
             0.5555555555555556,
             "#d8576b"
            ],
            [
             0.6666666666666666,
             "#ed7953"
            ],
            [
             0.7777777777777778,
             "#fb9f3a"
            ],
            [
             0.8888888888888888,
             "#fdca26"
            ],
            [
             1,
             "#f0f921"
            ]
           ],
           "sequentialminus": [
            [
             0,
             "#0d0887"
            ],
            [
             0.1111111111111111,
             "#46039f"
            ],
            [
             0.2222222222222222,
             "#7201a8"
            ],
            [
             0.3333333333333333,
             "#9c179e"
            ],
            [
             0.4444444444444444,
             "#bd3786"
            ],
            [
             0.5555555555555556,
             "#d8576b"
            ],
            [
             0.6666666666666666,
             "#ed7953"
            ],
            [
             0.7777777777777778,
             "#fb9f3a"
            ],
            [
             0.8888888888888888,
             "#fdca26"
            ],
            [
             1,
             "#f0f921"
            ]
           ]
          },
          "colorway": [
           "#636efa",
           "#EF553B",
           "#00cc96",
           "#ab63fa",
           "#FFA15A",
           "#19d3f3",
           "#FF6692",
           "#B6E880",
           "#FF97FF",
           "#FECB52"
          ],
          "font": {
           "color": "#2a3f5f"
          },
          "geo": {
           "bgcolor": "white",
           "lakecolor": "white",
           "landcolor": "#E5ECF6",
           "showlakes": true,
           "showland": true,
           "subunitcolor": "white"
          },
          "hoverlabel": {
           "align": "left"
          },
          "hovermode": "closest",
          "mapbox": {
           "style": "light"
          },
          "paper_bgcolor": "white",
          "plot_bgcolor": "#E5ECF6",
          "polar": {
           "angularaxis": {
            "gridcolor": "white",
            "linecolor": "white",
            "ticks": ""
           },
           "bgcolor": "#E5ECF6",
           "radialaxis": {
            "gridcolor": "white",
            "linecolor": "white",
            "ticks": ""
           }
          },
          "scene": {
           "xaxis": {
            "backgroundcolor": "#E5ECF6",
            "gridcolor": "white",
            "gridwidth": 2,
            "linecolor": "white",
            "showbackground": true,
            "ticks": "",
            "zerolinecolor": "white"
           },
           "yaxis": {
            "backgroundcolor": "#E5ECF6",
            "gridcolor": "white",
            "gridwidth": 2,
            "linecolor": "white",
            "showbackground": true,
            "ticks": "",
            "zerolinecolor": "white"
           },
           "zaxis": {
            "backgroundcolor": "#E5ECF6",
            "gridcolor": "white",
            "gridwidth": 2,
            "linecolor": "white",
            "showbackground": true,
            "ticks": "",
            "zerolinecolor": "white"
           }
          },
          "shapedefaults": {
           "line": {
            "color": "#2a3f5f"
           }
          },
          "ternary": {
           "aaxis": {
            "gridcolor": "white",
            "linecolor": "white",
            "ticks": ""
           },
           "baxis": {
            "gridcolor": "white",
            "linecolor": "white",
            "ticks": ""
           },
           "bgcolor": "#E5ECF6",
           "caxis": {
            "gridcolor": "white",
            "linecolor": "white",
            "ticks": ""
           }
          },
          "title": {
           "x": 0.05
          },
          "xaxis": {
           "automargin": true,
           "gridcolor": "white",
           "linecolor": "white",
           "ticks": "",
           "title": {
            "standoff": 15
           },
           "zerolinecolor": "white",
           "zerolinewidth": 2
          },
          "yaxis": {
           "automargin": true,
           "gridcolor": "white",
           "linecolor": "white",
           "ticks": "",
           "title": {
            "standoff": 15
           },
           "zerolinecolor": "white",
           "zerolinewidth": 2
          }
         }
        },
        "title": {
         "text": "Optimization History Plot"
        },
        "xaxis": {
         "title": {
          "text": "Trial"
         }
        },
        "yaxis": {
         "title": {
          "text": "Objective Value"
         }
        }
       }
      }
     },
     "metadata": {},
     "output_type": "display_data"
    },
    {
     "data": {
      "application/vnd.plotly.v1+json": {
       "config": {
        "plotlyServerURL": "https://plot.ly"
       },
       "data": [
        {
         "cliponaxis": false,
         "hovertemplate": [
          "gamma (CategoricalDistribution): 0.025099085059962976<extra></extra>",
          "nu (FloatDistribution): 0.974900914940037<extra></extra>"
         ],
         "name": "Objective Value",
         "orientation": "h",
         "text": [
          "0.03",
          "0.97"
         ],
         "textposition": "outside",
         "type": "bar",
         "x": [
          0.025099085059962976,
          0.974900914940037
         ],
         "y": [
          "gamma",
          "nu"
         ]
        }
       ],
       "layout": {
        "template": {
         "data": {
          "bar": [
           {
            "error_x": {
             "color": "#2a3f5f"
            },
            "error_y": {
             "color": "#2a3f5f"
            },
            "marker": {
             "line": {
              "color": "#E5ECF6",
              "width": 0.5
             },
             "pattern": {
              "fillmode": "overlay",
              "size": 10,
              "solidity": 0.2
             }
            },
            "type": "bar"
           }
          ],
          "barpolar": [
           {
            "marker": {
             "line": {
              "color": "#E5ECF6",
              "width": 0.5
             },
             "pattern": {
              "fillmode": "overlay",
              "size": 10,
              "solidity": 0.2
             }
            },
            "type": "barpolar"
           }
          ],
          "carpet": [
           {
            "aaxis": {
             "endlinecolor": "#2a3f5f",
             "gridcolor": "white",
             "linecolor": "white",
             "minorgridcolor": "white",
             "startlinecolor": "#2a3f5f"
            },
            "baxis": {
             "endlinecolor": "#2a3f5f",
             "gridcolor": "white",
             "linecolor": "white",
             "minorgridcolor": "white",
             "startlinecolor": "#2a3f5f"
            },
            "type": "carpet"
           }
          ],
          "choropleth": [
           {
            "colorbar": {
             "outlinewidth": 0,
             "ticks": ""
            },
            "type": "choropleth"
           }
          ],
          "contour": [
           {
            "colorbar": {
             "outlinewidth": 0,
             "ticks": ""
            },
            "colorscale": [
             [
              0,
              "#0d0887"
             ],
             [
              0.1111111111111111,
              "#46039f"
             ],
             [
              0.2222222222222222,
              "#7201a8"
             ],
             [
              0.3333333333333333,
              "#9c179e"
             ],
             [
              0.4444444444444444,
              "#bd3786"
             ],
             [
              0.5555555555555556,
              "#d8576b"
             ],
             [
              0.6666666666666666,
              "#ed7953"
             ],
             [
              0.7777777777777778,
              "#fb9f3a"
             ],
             [
              0.8888888888888888,
              "#fdca26"
             ],
             [
              1,
              "#f0f921"
             ]
            ],
            "type": "contour"
           }
          ],
          "contourcarpet": [
           {
            "colorbar": {
             "outlinewidth": 0,
             "ticks": ""
            },
            "type": "contourcarpet"
           }
          ],
          "heatmap": [
           {
            "colorbar": {
             "outlinewidth": 0,
             "ticks": ""
            },
            "colorscale": [
             [
              0,
              "#0d0887"
             ],
             [
              0.1111111111111111,
              "#46039f"
             ],
             [
              0.2222222222222222,
              "#7201a8"
             ],
             [
              0.3333333333333333,
              "#9c179e"
             ],
             [
              0.4444444444444444,
              "#bd3786"
             ],
             [
              0.5555555555555556,
              "#d8576b"
             ],
             [
              0.6666666666666666,
              "#ed7953"
             ],
             [
              0.7777777777777778,
              "#fb9f3a"
             ],
             [
              0.8888888888888888,
              "#fdca26"
             ],
             [
              1,
              "#f0f921"
             ]
            ],
            "type": "heatmap"
           }
          ],
          "heatmapgl": [
           {
            "colorbar": {
             "outlinewidth": 0,
             "ticks": ""
            },
            "colorscale": [
             [
              0,
              "#0d0887"
             ],
             [
              0.1111111111111111,
              "#46039f"
             ],
             [
              0.2222222222222222,
              "#7201a8"
             ],
             [
              0.3333333333333333,
              "#9c179e"
             ],
             [
              0.4444444444444444,
              "#bd3786"
             ],
             [
              0.5555555555555556,
              "#d8576b"
             ],
             [
              0.6666666666666666,
              "#ed7953"
             ],
             [
              0.7777777777777778,
              "#fb9f3a"
             ],
             [
              0.8888888888888888,
              "#fdca26"
             ],
             [
              1,
              "#f0f921"
             ]
            ],
            "type": "heatmapgl"
           }
          ],
          "histogram": [
           {
            "marker": {
             "pattern": {
              "fillmode": "overlay",
              "size": 10,
              "solidity": 0.2
             }
            },
            "type": "histogram"
           }
          ],
          "histogram2d": [
           {
            "colorbar": {
             "outlinewidth": 0,
             "ticks": ""
            },
            "colorscale": [
             [
              0,
              "#0d0887"
             ],
             [
              0.1111111111111111,
              "#46039f"
             ],
             [
              0.2222222222222222,
              "#7201a8"
             ],
             [
              0.3333333333333333,
              "#9c179e"
             ],
             [
              0.4444444444444444,
              "#bd3786"
             ],
             [
              0.5555555555555556,
              "#d8576b"
             ],
             [
              0.6666666666666666,
              "#ed7953"
             ],
             [
              0.7777777777777778,
              "#fb9f3a"
             ],
             [
              0.8888888888888888,
              "#fdca26"
             ],
             [
              1,
              "#f0f921"
             ]
            ],
            "type": "histogram2d"
           }
          ],
          "histogram2dcontour": [
           {
            "colorbar": {
             "outlinewidth": 0,
             "ticks": ""
            },
            "colorscale": [
             [
              0,
              "#0d0887"
             ],
             [
              0.1111111111111111,
              "#46039f"
             ],
             [
              0.2222222222222222,
              "#7201a8"
             ],
             [
              0.3333333333333333,
              "#9c179e"
             ],
             [
              0.4444444444444444,
              "#bd3786"
             ],
             [
              0.5555555555555556,
              "#d8576b"
             ],
             [
              0.6666666666666666,
              "#ed7953"
             ],
             [
              0.7777777777777778,
              "#fb9f3a"
             ],
             [
              0.8888888888888888,
              "#fdca26"
             ],
             [
              1,
              "#f0f921"
             ]
            ],
            "type": "histogram2dcontour"
           }
          ],
          "mesh3d": [
           {
            "colorbar": {
             "outlinewidth": 0,
             "ticks": ""
            },
            "type": "mesh3d"
           }
          ],
          "parcoords": [
           {
            "line": {
             "colorbar": {
              "outlinewidth": 0,
              "ticks": ""
             }
            },
            "type": "parcoords"
           }
          ],
          "pie": [
           {
            "automargin": true,
            "type": "pie"
           }
          ],
          "scatter": [
           {
            "fillpattern": {
             "fillmode": "overlay",
             "size": 10,
             "solidity": 0.2
            },
            "type": "scatter"
           }
          ],
          "scatter3d": [
           {
            "line": {
             "colorbar": {
              "outlinewidth": 0,
              "ticks": ""
             }
            },
            "marker": {
             "colorbar": {
              "outlinewidth": 0,
              "ticks": ""
             }
            },
            "type": "scatter3d"
           }
          ],
          "scattercarpet": [
           {
            "marker": {
             "colorbar": {
              "outlinewidth": 0,
              "ticks": ""
             }
            },
            "type": "scattercarpet"
           }
          ],
          "scattergeo": [
           {
            "marker": {
             "colorbar": {
              "outlinewidth": 0,
              "ticks": ""
             }
            },
            "type": "scattergeo"
           }
          ],
          "scattergl": [
           {
            "marker": {
             "colorbar": {
              "outlinewidth": 0,
              "ticks": ""
             }
            },
            "type": "scattergl"
           }
          ],
          "scattermapbox": [
           {
            "marker": {
             "colorbar": {
              "outlinewidth": 0,
              "ticks": ""
             }
            },
            "type": "scattermapbox"
           }
          ],
          "scatterpolar": [
           {
            "marker": {
             "colorbar": {
              "outlinewidth": 0,
              "ticks": ""
             }
            },
            "type": "scatterpolar"
           }
          ],
          "scatterpolargl": [
           {
            "marker": {
             "colorbar": {
              "outlinewidth": 0,
              "ticks": ""
             }
            },
            "type": "scatterpolargl"
           }
          ],
          "scatterternary": [
           {
            "marker": {
             "colorbar": {
              "outlinewidth": 0,
              "ticks": ""
             }
            },
            "type": "scatterternary"
           }
          ],
          "surface": [
           {
            "colorbar": {
             "outlinewidth": 0,
             "ticks": ""
            },
            "colorscale": [
             [
              0,
              "#0d0887"
             ],
             [
              0.1111111111111111,
              "#46039f"
             ],
             [
              0.2222222222222222,
              "#7201a8"
             ],
             [
              0.3333333333333333,
              "#9c179e"
             ],
             [
              0.4444444444444444,
              "#bd3786"
             ],
             [
              0.5555555555555556,
              "#d8576b"
             ],
             [
              0.6666666666666666,
              "#ed7953"
             ],
             [
              0.7777777777777778,
              "#fb9f3a"
             ],
             [
              0.8888888888888888,
              "#fdca26"
             ],
             [
              1,
              "#f0f921"
             ]
            ],
            "type": "surface"
           }
          ],
          "table": [
           {
            "cells": {
             "fill": {
              "color": "#EBF0F8"
             },
             "line": {
              "color": "white"
             }
            },
            "header": {
             "fill": {
              "color": "#C8D4E3"
             },
             "line": {
              "color": "white"
             }
            },
            "type": "table"
           }
          ]
         },
         "layout": {
          "annotationdefaults": {
           "arrowcolor": "#2a3f5f",
           "arrowhead": 0,
           "arrowwidth": 1
          },
          "autotypenumbers": "strict",
          "coloraxis": {
           "colorbar": {
            "outlinewidth": 0,
            "ticks": ""
           }
          },
          "colorscale": {
           "diverging": [
            [
             0,
             "#8e0152"
            ],
            [
             0.1,
             "#c51b7d"
            ],
            [
             0.2,
             "#de77ae"
            ],
            [
             0.3,
             "#f1b6da"
            ],
            [
             0.4,
             "#fde0ef"
            ],
            [
             0.5,
             "#f7f7f7"
            ],
            [
             0.6,
             "#e6f5d0"
            ],
            [
             0.7,
             "#b8e186"
            ],
            [
             0.8,
             "#7fbc41"
            ],
            [
             0.9,
             "#4d9221"
            ],
            [
             1,
             "#276419"
            ]
           ],
           "sequential": [
            [
             0,
             "#0d0887"
            ],
            [
             0.1111111111111111,
             "#46039f"
            ],
            [
             0.2222222222222222,
             "#7201a8"
            ],
            [
             0.3333333333333333,
             "#9c179e"
            ],
            [
             0.4444444444444444,
             "#bd3786"
            ],
            [
             0.5555555555555556,
             "#d8576b"
            ],
            [
             0.6666666666666666,
             "#ed7953"
            ],
            [
             0.7777777777777778,
             "#fb9f3a"
            ],
            [
             0.8888888888888888,
             "#fdca26"
            ],
            [
             1,
             "#f0f921"
            ]
           ],
           "sequentialminus": [
            [
             0,
             "#0d0887"
            ],
            [
             0.1111111111111111,
             "#46039f"
            ],
            [
             0.2222222222222222,
             "#7201a8"
            ],
            [
             0.3333333333333333,
             "#9c179e"
            ],
            [
             0.4444444444444444,
             "#bd3786"
            ],
            [
             0.5555555555555556,
             "#d8576b"
            ],
            [
             0.6666666666666666,
             "#ed7953"
            ],
            [
             0.7777777777777778,
             "#fb9f3a"
            ],
            [
             0.8888888888888888,
             "#fdca26"
            ],
            [
             1,
             "#f0f921"
            ]
           ]
          },
          "colorway": [
           "#636efa",
           "#EF553B",
           "#00cc96",
           "#ab63fa",
           "#FFA15A",
           "#19d3f3",
           "#FF6692",
           "#B6E880",
           "#FF97FF",
           "#FECB52"
          ],
          "font": {
           "color": "#2a3f5f"
          },
          "geo": {
           "bgcolor": "white",
           "lakecolor": "white",
           "landcolor": "#E5ECF6",
           "showlakes": true,
           "showland": true,
           "subunitcolor": "white"
          },
          "hoverlabel": {
           "align": "left"
          },
          "hovermode": "closest",
          "mapbox": {
           "style": "light"
          },
          "paper_bgcolor": "white",
          "plot_bgcolor": "#E5ECF6",
          "polar": {
           "angularaxis": {
            "gridcolor": "white",
            "linecolor": "white",
            "ticks": ""
           },
           "bgcolor": "#E5ECF6",
           "radialaxis": {
            "gridcolor": "white",
            "linecolor": "white",
            "ticks": ""
           }
          },
          "scene": {
           "xaxis": {
            "backgroundcolor": "#E5ECF6",
            "gridcolor": "white",
            "gridwidth": 2,
            "linecolor": "white",
            "showbackground": true,
            "ticks": "",
            "zerolinecolor": "white"
           },
           "yaxis": {
            "backgroundcolor": "#E5ECF6",
            "gridcolor": "white",
            "gridwidth": 2,
            "linecolor": "white",
            "showbackground": true,
            "ticks": "",
            "zerolinecolor": "white"
           },
           "zaxis": {
            "backgroundcolor": "#E5ECF6",
            "gridcolor": "white",
            "gridwidth": 2,
            "linecolor": "white",
            "showbackground": true,
            "ticks": "",
            "zerolinecolor": "white"
           }
          },
          "shapedefaults": {
           "line": {
            "color": "#2a3f5f"
           }
          },
          "ternary": {
           "aaxis": {
            "gridcolor": "white",
            "linecolor": "white",
            "ticks": ""
           },
           "baxis": {
            "gridcolor": "white",
            "linecolor": "white",
            "ticks": ""
           },
           "bgcolor": "#E5ECF6",
           "caxis": {
            "gridcolor": "white",
            "linecolor": "white",
            "ticks": ""
           }
          },
          "title": {
           "x": 0.05
          },
          "xaxis": {
           "automargin": true,
           "gridcolor": "white",
           "linecolor": "white",
           "ticks": "",
           "title": {
            "standoff": 15
           },
           "zerolinecolor": "white",
           "zerolinewidth": 2
          },
          "yaxis": {
           "automargin": true,
           "gridcolor": "white",
           "linecolor": "white",
           "ticks": "",
           "title": {
            "standoff": 15
           },
           "zerolinecolor": "white",
           "zerolinewidth": 2
          }
         }
        },
        "title": {
         "text": "Hyperparameter Importances"
        },
        "xaxis": {
         "title": {
          "text": "Hyperparameter Importance"
         }
        },
        "yaxis": {
         "title": {
          "text": "Hyperparameter"
         }
        }
       }
      }
     },
     "metadata": {},
     "output_type": "display_data"
    },
    {
     "name": "stdout",
     "output_type": "stream",
     "text": [
      "Best parameters for one-class SVM:\n",
      "{'nu': 0.028833270055175646, 'gamma': 'auto'}\n"
     ]
    },
    {
     "data": {
      "image/png": "[encoded data removed]",
      "text/plain": [
       "<Figure size 1400x600 with 2 Axes>"
      ]
     },
     "metadata": {},
     "output_type": "display_data"
    },
    {
     "name": "stdout",
     "output_type": "stream",
     "text": [
      "Isolation Forest Outliers:\n",
      "IF_outlier\n",
      " 1    53\n",
      "-1     1\n",
      "Name: count, dtype: int64\n",
      "\n",
      "One-Class SVM Outliers:\n",
      "SVM_outlier\n",
      " 1    50\n",
      "-1     4\n",
      "Name: count, dtype: int64\n",
      "Outlier predictions saved to Outlier_Predictions.csv\n"
     ]
    }
   ],
   "source": [
    "#02_Modeling_Outliers.ipynb\n",
    "\n",
    "import pandas as pd\n",
    "import numpy as np\n",
    "import matplotlib.pyplot as plt\n",
    "import seaborn as sns\n",
    "from sklearn.ensemble import IsolationForest\n",
    "from sklearn.svm import OneClassSVM\n",
    "from sklearn.decomposition import PCA\n",
    "from sklearn.metrics import classification_report\n",
    "import optuna\n",
    "import optuna.visualization as vis\n",
    "\n",
    "#Load cleaned data\n",
    "data_path = 'CR6_cleaned_scaled.csv'\n",
    "df = pd.read_csv(data_path)\n",
    "\n",
    "#Identify text and numeric columns\n",
    "text_cols = ['Bankname', 'Tablename', 'Exposureclass']\n",
    "numeric_cols = [col for col in df.columns if col not in text_cols]\n",
    "\n",
    "#Added PCA for visualisation of outliers\n",
    "pca = PCA(n_components=2)\n",
    "pca_result = pca.fit_transform(df[numeric_cols])\n",
    "df_pca = pd.DataFrame(pca_result, columns=['PC1', 'PC2'])\n",
    "\n",
    "#Perform hyperparameter optimisation for the isolation forest\n",
    "#Isolation forest is a decision tree-based unsupervised machine learning algorithm used in outlier detection\n",
    "#It is based on how many splits it takes to isolate each point. If there is a short path it is likely an outlier.\n",
    "def optimize_if(trial):\n",
    "    n_estimators = trial.suggest_int('n_estimators', 50, 200)\n",
    "    max_samples = trial.suggest_float('max_samples', 0.5, 1.0)\n",
    "    contamination = trial.suggest_float('contamination', 0.01, 0.1)\n",
    "    max_features = trial.suggest_float('max_features', 0.5, 1.0)\n",
    "\n",
    "    model = IsolationForest(\n",
    "        n_estimators=n_estimators,\n",
    "        max_samples=max_samples,\n",
    "        contamination=contamination,\n",
    "        max_features=max_features,\n",
    "        random_state=42\n",
    "    )\n",
    "    preds = model.fit_predict(df[numeric_cols])\n",
    "    outlier_count = np.sum(preds == -1)\n",
    "    return -outlier_count  # Objective: find settings that minimize outliers\n",
    "\n",
    "study_if = optuna.create_study(direction='maximize')\n",
    "study_if.optimize(optimize_if, n_trials=20)\n",
    "\n",
    "print(\"Best parameters for isolation forest:\")\n",
    "print(study_if.best_params)\n",
    "\n",
    "#Fit the optimised isolation forest\n",
    "iso_model = IsolationForest(**study_if.best_params, random_state=42)\n",
    "df['IF_outlier'] = iso_model.fit_predict(df[numeric_cols])\n",
    "\n",
    "#Perform hyperparameter optimisation for one-class SVM\n",
    "#One-class SVM is a kernel-based unsupervised machine learning algorithm that learns the boundary of normal\n",
    "#data and flags any data points that are outside of this boundary\n",
    "def optimize_svm(trial):\n",
    "    nu = trial.suggest_float('nu', 0.01, 0.1)\n",
    "    gamma = trial.suggest_categorical('gamma', ['scale', 'auto'])\n",
    "\n",
    "    model = OneClassSVM(kernel='rbf', gamma=gamma, nu=nu)\n",
    "    preds = model.fit_predict(df[numeric_cols])\n",
    "    outlier_count = np.sum(preds == -1)\n",
    "    return -outlier_count  # Minimize outliers\n",
    "\n",
    "#optuna runs trials using different hyperparameter combinations\n",
    "#It then uses Bayesian optimisation to try different values to get better results\n",
    "#It improves the scores with each trial and after a set number of trials reports the best hyperparameters\n",
    "#The number of trials can be modified, but 100 were used here as a test. \n",
    "#The optimal results and the weighting of the importance of each hyperparameter can be seen in the plots below.\n",
    "study_svm = optuna.create_study(direction='maximize')\n",
    "study_svm.optimize(optimize_svm, n_trials=100)\n",
    "\n",
    "opt_history_if = vis.plot_optimization_history(study_if)\n",
    "opt_history_if.show()\n",
    "\n",
    "hyp_importance_if = vis.plot_param_importances(study_if)\n",
    "hyp_importance_if.show()\n",
    "\n",
    "opt_history_svm = vis.plot_optimization_history(study_svm)\n",
    "opt_history_svm.show()\n",
    "\n",
    "hyp_importance_svm = vis.plot_param_importances(study_svm)\n",
    "hyp_importance_svm.show()\n",
    "\n",
    "print(\"Best parameters for one-class SVM:\")\n",
    "print(study_svm.best_params)\n",
    "\n",
    "#Fit optimised One-Class SVM\n",
    "ocsvm_model = OneClassSVM(**study_svm.best_params)\n",
    "df['SVM_outlier'] = ocsvm_model.fit_predict(df[numeric_cols])\n",
    "\n",
    "#Visualize outliers\n",
    "#Items with score -1 are outliers, items with score 1 are not outliers\n",
    "fig, axes = plt.subplots(1, 2, figsize=(14, 6))\n",
    "\n",
    "#Isolation forest PCA plot\n",
    "sns.scatterplot(x=df_pca['PC1'], y=df_pca['PC2'], hue=df['IF_outlier'], ax=axes[0], palette='Set1')\n",
    "axes[0].set_title('Isolation Forest Outlier Detection')\n",
    "\n",
    "#One-Class SVM PCA plot\n",
    "sns.scatterplot(x=df_pca['PC1'], y=df_pca['PC2'], hue=df['SVM_outlier'], ax=axes[1], palette='Set2')\n",
    "axes[1].set_title('One-Class SVM Outlier Detection')\n",
    "\n",
    "plt.tight_layout()\n",
    "plt.show()\n",
    "\n",
    "#Summary of outliers\n",
    "print(\"Isolation Forest Outliers:\")\n",
    "print(df['IF_outlier'].value_counts())\n",
    "\n",
    "print(\"\\nOne-Class SVM Outliers:\")\n",
    "print(df['SVM_outlier'].value_counts())\n",
    "\n",
    "# Save Results\n",
    "outlier_result_path = 'Outlier_Predictions.csv'\n",
    "df.to_csv(outlier_result_path, index=False)\n",
    "print(f\"Outlier predictions saved to {outlier_result_path}\")\n",
    "\n"
   ]
  },
  {
   "cell_type": "code",
   "execution_count": 7,
   "id": "4074b137",
   "metadata": {},
   "outputs": [
    {
     "name": "stdout",
     "output_type": "stream",
     "text": [
      "Outlier counts per fold: [0, 1, 0, 2, 0]\n"
     ]
    }
   ],
   "source": [
    "#testing model stability using K-Fold CCV - this checks that the number of outliers is identified\n",
    "#consistently across folds\n",
    "from sklearn.model_selection import KFold\n",
    "\n",
    "kf = KFold(n_splits=5, shuffle=True, random_state=42)\n",
    "outlier_counts = []\n",
    "\n",
    "for train_idx, test_idx in kf.split(df[numeric_cols]):\n",
    "    X_train, X_test = df.iloc[train_idx][numeric_cols], df.iloc[test_idx][numeric_cols]\n",
    "    model = IsolationForest(contamination=0.05, random_state=42)\n",
    "    model.fit(X_train)\n",
    "    preds = model.predict(X_test)\n",
    "    outlier_count = np.sum(preds == -1)\n",
    "    outlier_counts.append(outlier_count)\n",
    "\n",
    "print(\"Outlier counts per fold:\", outlier_counts)\n",
    "\n",
    "\n",
    "\n"
   ]
  }
 ],
 "metadata": {
  "kernelspec": {
   "display_name": "base",
   "language": "python",
   "name": "python3"
  },
  "language_info": {
   "codemirror_mode": {
    "name": "ipython",
    "version": 3
   },
   "file_extension": ".py",
   "mimetype": "text/x-python",
   "name": "python",
   "nbconvert_exporter": "python",
   "pygments_lexer": "ipython3",
   "version": "3.12.7"
  }
 },
 "nbformat": 4,
 "nbformat_minor": 5
}
